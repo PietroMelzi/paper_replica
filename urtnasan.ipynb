{
 "cells": [
  {
   "cell_type": "code",
   "execution_count": 15,
   "metadata": {},
   "outputs": [],
   "source": [
    "import tensorflow as tf\n",
    "import pandas as pd\n",
    "import numpy as np\n",
    "\n",
    "from tensorflow.keras import datasets, layers, models\n",
    "import matplotlib.pyplot as plt\n",
    "from tensorflow.keras.layers.experimental import preprocessing"
   ]
  },
  {
   "cell_type": "markdown",
   "metadata": {},
   "source": [
    "LOAD DATA FROM AFPDB"
   ]
  },
  {
   "cell_type": "code",
   "execution_count": 16,
   "metadata": {},
   "outputs": [
    {
     "name": "stdout",
     "output_type": "stream",
     "text": [
      "AFPDB - Train labels size:  4800\n",
      "AFPDB - Test labels size:   1200\n"
     ]
    }
   ],
   "source": [
    "import pathlib\n",
    "font_csvs =  [str(p) for p in pathlib.Path('preproc_data/afpdb').glob(\"*.csv\")]\n",
    "train_csvs = font_csvs[0:40]+font_csvs[50:90]\n",
    "test_csvs = font_csvs[40:50]+font_csvs[90:100]\n",
    "afpdb_train_labels = np.array([0]*40*60+[1]*40*60)\n",
    "afpdb_test_labels = np.array([0]*10*60+[1]*10*60)\n",
    "print(\"AFPDB - Train labels size: \", afpdb_train_labels.size)\n",
    "print(\"AFPDB - Test labels size:  \", afpdb_test_labels.size)"
   ]
  },
  {
   "cell_type": "code",
   "execution_count": 17,
   "metadata": {},
   "outputs": [
    {
     "name": "stdout",
     "output_type": "stream",
     "text": [
      "AFPDB - Train data shape:  (4800, 900, 1)\n"
     ]
    }
   ],
   "source": [
    "afpdb_train_data = np.array([])\n",
    "for csv in train_csvs:\n",
    "    data = pd.read_csv(csv, header=None)\n",
    "    for c in range(data.shape[1]):\n",
    "        row = np.array([np.array([data.iloc[:, c]])])\n",
    "        if afpdb_train_data.shape[0] == 0:\n",
    "            afpdb_train_data = row\n",
    "        else:\n",
    "            afpdb_train_data = np.vstack((afpdb_train_data, row))\n",
    "afpdb_train_data = np.moveaxis(afpdb_train_data, 1, 2)\n",
    "print(\"AFPDB - Train data shape: \", afpdb_train_data.shape)"
   ]
  },
  {
   "cell_type": "code",
   "execution_count": 18,
   "metadata": {},
   "outputs": [
    {
     "name": "stdout",
     "output_type": "stream",
     "text": [
      "AFPDB - Test data shape:  (1200, 900, 1)\n"
     ]
    }
   ],
   "source": [
    "afpdb_test_data = np.array([])\n",
    "for csv in test_csvs:\n",
    "    data = pd.read_csv(csv, header=None)\n",
    "    for c in range(data.shape[1]):\n",
    "        row = np.array([np.array([data.iloc[:, c]])])\n",
    "        if afpdb_test_data.shape[0] == 0:\n",
    "            afpdb_test_data = row\n",
    "        else:\n",
    "            afpdb_test_data = np.vstack((afpdb_test_data, row))\n",
    "afpdb_test_data = np.moveaxis(afpdb_test_data, 1, 2)\n",
    "print(\"AFPDB - Test data shape: \", afpdb_test_data.shape)"
   ]
  },
  {
   "cell_type": "markdown",
   "metadata": {},
   "source": [
    "LOAD DATA FROM AFDB"
   ]
  },
  {
   "cell_type": "code",
   "execution_count": 22,
   "metadata": {},
   "outputs": [
    {
     "name": "stdout",
     "output_type": "stream",
     "text": [
      "AFDB data shape:  (3419, 900, 1)\n"
     ]
    }
   ],
   "source": [
    "afdb_csvs =  [str(p) for p in pathlib.Path('preproc_data/afdb').glob(\"*.csv\")]\n",
    "afdb_data = np.array([])\n",
    "for csv in afdb_csvs:\n",
    "    data = pd.read_csv(csv, header=None)\n",
    "    for c in range(data.shape[1]):\n",
    "        row = np.array([np.array([data.iloc[:, c]])])\n",
    "        if afdb_data.shape[0] == 0:\n",
    "            afdb_data = row\n",
    "        else:\n",
    "            afdb_data = np.vstack((afdb_data, row))\n",
    "afdb_data = np.moveaxis(afdb_data, 1, 2)\n",
    "print(\"AFDB data shape: \", afdb_data.shape)"
   ]
  },
  {
   "cell_type": "code",
   "execution_count": 23,
   "metadata": {},
   "outputs": [
    {
     "name": "stdout",
     "output_type": "stream",
     "text": [
      "AFDB - Train data shape:  (2736, 900, 1)\n",
      "AFDB - Test data shape:   (683, 900, 1)\n"
     ]
    }
   ],
   "source": [
    "import math\n",
    "TEST_PROP = 0.8\n",
    "index_split = math.ceil(afdb_data.shape[0] * TEST_PROP)\n",
    "afdb_train = afdb_data[:index_split,:,:]\n",
    "afdb_test = afdb_data[index_split:,:,:]\n",
    "print(\"AFDB - Train data shape: \", afdb_train.shape)\n",
    "print(\"AFDB - Test data shape:  \", afdb_test.shape)"
   ]
  },
  {
   "cell_type": "code",
   "execution_count": 24,
   "metadata": {},
   "outputs": [
    {
     "name": "stdout",
     "output_type": "stream",
     "text": [
      "Total - Train labels size:  7536\n",
      "Total - Test labels size:   1883\n"
     ]
    }
   ],
   "source": [
    "afdb_train_labels = np.array([1]*afdb_train.shape[0])\n",
    "afdb_test_labels = np.array([1]*afdb_test.shape[0])\n",
    "train_labels = np.concatenate((afpdb_train_labels, afdb_train_labels))\n",
    "test_labels = np.concatenate((afpdb_test_labels, afdb_test_labels))\n",
    "print(\"Total - Train labels size: \", train_labels.size)\n",
    "print(\"Total - Test labels size:  \", test_labels.size)"
   ]
  },
  {
   "cell_type": "code",
   "execution_count": 25,
   "metadata": {},
   "outputs": [
    {
     "name": "stdout",
     "output_type": "stream",
     "text": [
      "Total - Train data shape:  (7536, 900, 1)\n",
      "Total - Test data shape:  (1883, 900, 1)\n"
     ]
    }
   ],
   "source": [
    "train_data = np.concatenate((afpdb_train_data, afdb_train))\n",
    "test_data = np.concatenate((afpdb_test_data, afdb_test))\n",
    "print(\"Total - Train data shape: \", train_data.shape)\n",
    "print(\"Total - Test data shape: \", test_data.shape)"
   ]
  },
  {
   "cell_type": "markdown",
   "metadata": {},
   "source": [
    "LOAD DATA FROM NSRDB"
   ]
  },
  {
   "cell_type": "code",
   "execution_count": 33,
   "metadata": {},
   "outputs": [
    {
     "name": "stdout",
     "output_type": "stream",
     "text": [
      "NSRDB data shape:  (6840, 900, 1)\n"
     ]
    }
   ],
   "source": [
    "nsrdb_csvs =  [str(p) for p in pathlib.Path('preproc_data/nsrdb').glob(\"*.csv\")]\n",
    "nsrdb_data = np.array([])\n",
    "for csv in nsrdb_csvs:\n",
    "    data = pd.read_csv(csv, header=None)\n",
    "    for c in range(data.shape[1]):\n",
    "        row = np.array([np.array([data.iloc[:, c]])])\n",
    "        if nsrdb_data.shape[0] == 0:\n",
    "            nsrdb_data = row\n",
    "        else:\n",
    "            nsrdb_data = np.vstack((nsrdb_data, row))\n",
    "nsrdb_data = np.moveaxis(nsrdb_data, 1, 2)\n",
    "print(\"NSRDB data shape: \", nsrdb_data.shape)"
   ]
  },
  {
   "cell_type": "code",
   "execution_count": 34,
   "metadata": {},
   "outputs": [
    {
     "name": "stdout",
     "output_type": "stream",
     "text": [
      "NSRDB - Train data shape:  (5472, 900, 1)\n",
      "NSRDB - Test data shape:   (1368, 900, 1)\n"
     ]
    }
   ],
   "source": [
    "index_split = math.ceil(nsrdb_data.shape[0] * TEST_PROP)\n",
    "nsrdb_train = nsrdb_data[:index_split,:,:]\n",
    "nsrdb_test = nsrdb_data[index_split:,:,:]\n",
    "print(\"NSRDB - Train data shape: \", nsrdb_train.shape)\n",
    "print(\"NSRDB - Test data shape:  \", nsrdb_test.shape)"
   ]
  },
  {
   "cell_type": "code",
   "execution_count": 35,
   "metadata": {},
   "outputs": [
    {
     "name": "stdout",
     "output_type": "stream",
     "text": [
      "Total - Train labels size:  13008\n",
      "Total - Test labels size:   3251\n"
     ]
    }
   ],
   "source": [
    "nsrdb_train_labels = np.array([0]*nsrdb_train.shape[0])\n",
    "nsrdb_test_labels = np.array([0]*nsrdb_test.shape[0])\n",
    "train_labels2 = np.concatenate((train_labels, nsrdb_train_labels))\n",
    "test_labels2 = np.concatenate((test_labels, nsrdb_test_labels))\n",
    "print(\"Total - Train labels size: \", train_labels2.size)\n",
    "print(\"Total - Test labels size:  \", test_labels2.size)"
   ]
  },
  {
   "cell_type": "code",
   "execution_count": 36,
   "metadata": {},
   "outputs": [
    {
     "name": "stdout",
     "output_type": "stream",
     "text": [
      "Total - Train data shape:  (13008, 900, 1)\n",
      "Total - Test data shape:   (3251, 900, 1)\n"
     ]
    }
   ],
   "source": [
    "train_data2 = np.concatenate((train_data, nsrdb_train))\n",
    "test_data2 = np.concatenate((test_data, nsrdb_test))\n",
    "print(\"Total - Train data shape: \", train_data2.shape)\n",
    "print(\"Total - Test data shape:  \", test_data2.shape)"
   ]
  },
  {
   "cell_type": "markdown",
   "metadata": {},
   "source": [
    "BUILD DATASET OBJECTS"
   ]
  },
  {
   "cell_type": "code",
   "execution_count": 37,
   "metadata": {},
   "outputs": [
    {
     "name": "stdout",
     "output_type": "stream",
     "text": [
      "Data batch size:    (2, 900, 1)\n",
      "Labels batch size:  (2,)\n"
     ]
    }
   ],
   "source": [
    "train = tf.data.Dataset.from_tensor_slices((train_data2, train_labels2))\n",
    "test = tf.data.Dataset.from_tensor_slices((test_data2, test_labels2))\n",
    "\n",
    "train = train.shuffle(len(train)).batch(2)\n",
    "test = test.batch(16)\n",
    "\n",
    "for d, l in train.take(1):\n",
    "    print (\"Data batch size:   \", d.shape)\n",
    "    print (\"Labels batch size: \", l.shape)"
   ]
  },
  {
   "cell_type": "code",
   "execution_count": 38,
   "metadata": {},
   "outputs": [
    {
     "name": "stdout",
     "output_type": "stream",
     "text": [
      "Model: \"sequential_2\"\n",
      "_________________________________________________________________\n",
      "Layer (type)                 Output Shape              Param #   \n",
      "=================================================================\n",
      "batch_normalization_2 (Batch (None, 900, 1)            4         \n",
      "_________________________________________________________________\n",
      "conv1d_10 (Conv1D)           (None, 893, 16)           144       \n",
      "_________________________________________________________________\n",
      "max_pooling1d_8 (MaxPooling1 (None, 446, 16)           0         \n",
      "_________________________________________________________________\n",
      "dropout_8 (Dropout)          (None, 446, 16)           0         \n",
      "_________________________________________________________________\n",
      "conv1d_11 (Conv1D)           (None, 443, 32)           2080      \n",
      "_________________________________________________________________\n",
      "conv1d_12 (Conv1D)           (None, 440, 32)           4128      \n",
      "_________________________________________________________________\n",
      "max_pooling1d_9 (MaxPooling1 (None, 220, 32)           0         \n",
      "_________________________________________________________________\n",
      "dropout_9 (Dropout)          (None, 220, 32)           0         \n",
      "_________________________________________________________________\n",
      "dense_6 (Dense)              (None, 220, 16)           528       \n",
      "_________________________________________________________________\n",
      "max_pooling1d_10 (MaxPooling (None, 110, 16)           0         \n",
      "_________________________________________________________________\n",
      "dropout_10 (Dropout)         (None, 110, 16)           0         \n",
      "_________________________________________________________________\n",
      "conv1d_13 (Conv1D)           (None, 109, 32)           1056      \n",
      "_________________________________________________________________\n",
      "conv1d_14 (Conv1D)           (None, 108, 32)           2080      \n",
      "_________________________________________________________________\n",
      "max_pooling1d_11 (MaxPooling (None, 54, 32)            0         \n",
      "_________________________________________________________________\n",
      "dropout_11 (Dropout)         (None, 54, 32)            0         \n",
      "_________________________________________________________________\n",
      "dense_7 (Dense)              (None, 54, 8)             264       \n",
      "_________________________________________________________________\n",
      "flatten_2 (Flatten)          (None, 432)               0         \n",
      "_________________________________________________________________\n",
      "dense_8 (Dense)              (None, 2)                 866       \n",
      "=================================================================\n",
      "Total params: 11,150\n",
      "Trainable params: 11,148\n",
      "Non-trainable params: 2\n",
      "_________________________________________________________________\n"
     ]
    }
   ],
   "source": [
    "model = models.Sequential()\n",
    "model.add(layers.BatchNormalization(input_shape=(900,1)))\n",
    "model.add(layers.Conv1D(16,8))\n",
    "\n",
    "model.add(layers.MaxPool1D(strides=2))\n",
    "model.add(layers.Dropout(0.25))\n",
    "model.add(layers.Conv1D(32,4))\n",
    "model.add(layers.Conv1D(32,4))\n",
    "model.add(layers.MaxPool1D(strides=2))\n",
    "model.add(layers.Dropout(0.25))\n",
    "model.add(layers.Dense(16, activation='relu'))\n",
    "\n",
    "model.add(layers.MaxPool1D(strides=2))\n",
    "model.add(layers.Dropout(0.25))\n",
    "model.add(layers.Conv1D(32,2))\n",
    "model.add(layers.Conv1D(32,2))\n",
    "model.add(layers.MaxPool1D(strides=2))\n",
    "model.add(layers.Dropout(0.25))\n",
    "model.add(layers.Dense(8, activation='relu'))\n",
    "\n",
    "model.add(layers.Flatten())\n",
    "model.add(layers.Dense(2))\n",
    "\n",
    "model.summary()"
   ]
  },
  {
   "cell_type": "code",
   "execution_count": 39,
   "metadata": {},
   "outputs": [
    {
     "name": "stdout",
     "output_type": "stream",
     "text": [
      "Epoch 1/200\n",
      "6504/6504 [==============================] - 55s 8ms/step - loss: 0.3305 - accuracy: 0.8436 - val_loss: 0.6058 - val_accuracy: 0.8151\n",
      "Epoch 2/200\n",
      "6504/6504 [==============================] - 56s 9ms/step - loss: 0.2346 - accuracy: 0.9022 - val_loss: 0.8079 - val_accuracy: 0.7219\n",
      "Epoch 3/200\n",
      "6504/6504 [==============================] - 55s 9ms/step - loss: 0.1742 - accuracy: 0.9289 - val_loss: 0.8134 - val_accuracy: 0.8074\n",
      "Epoch 4/200\n",
      "6504/6504 [==============================] - 55s 9ms/step - loss: 0.1600 - accuracy: 0.9358 - val_loss: 0.7087 - val_accuracy: 0.7349\n",
      "Epoch 5/200\n",
      "6504/6504 [==============================] - 56s 9ms/step - loss: 0.1460 - accuracy: 0.9422 - val_loss: 1.2302 - val_accuracy: 0.7355\n",
      "Epoch 6/200\n",
      "6504/6504 [==============================] - 55s 8ms/step - loss: 0.1319 - accuracy: 0.9464 - val_loss: 0.8692 - val_accuracy: 0.7395\n",
      "Epoch 7/200\n",
      "6504/6504 [==============================] - 56s 9ms/step - loss: 0.1202 - accuracy: 0.9526 - val_loss: 1.2150 - val_accuracy: 0.7219\n",
      "Epoch 8/200\n",
      "6504/6504 [==============================] - 56s 9ms/step - loss: 0.1071 - accuracy: 0.9606 - val_loss: 1.5515 - val_accuracy: 0.7450\n",
      "Epoch 9/200\n",
      "6504/6504 [==============================] - 55s 9ms/step - loss: 0.1050 - accuracy: 0.9603 - val_loss: 1.4932 - val_accuracy: 0.7225\n",
      "Epoch 10/200\n",
      "6504/6504 [==============================] - 57s 9ms/step - loss: 0.1023 - accuracy: 0.9610 - val_loss: 1.4678 - val_accuracy: 0.7284\n",
      "Epoch 11/200\n",
      "6504/6504 [==============================] - 55s 8ms/step - loss: 0.0963 - accuracy: 0.9630 - val_loss: 1.4069 - val_accuracy: 0.6604\n",
      "Epoch 12/200\n",
      "6504/6504 [==============================] - 55s 8ms/step - loss: 0.0888 - accuracy: 0.9676 - val_loss: 2.3783 - val_accuracy: 0.7207\n",
      "Epoch 13/200\n",
      "6504/6504 [==============================] - 57s 9ms/step - loss: 0.0894 - accuracy: 0.9673 - val_loss: 1.3181 - val_accuracy: 0.7035\n",
      "Epoch 14/200\n",
      "6504/6504 [==============================] - 56s 9ms/step - loss: 0.0781 - accuracy: 0.9698 - val_loss: 1.6383 - val_accuracy: 0.7050\n",
      "Epoch 15/200\n",
      "6504/6504 [==============================] - 57s 9ms/step - loss: 0.0818 - accuracy: 0.9710 - val_loss: 1.4835 - val_accuracy: 0.7016\n",
      "Epoch 16/200\n",
      "6504/6504 [==============================] - 56s 9ms/step - loss: 0.0793 - accuracy: 0.9699 - val_loss: 1.6620 - val_accuracy: 0.7142\n",
      "Epoch 17/200\n",
      "6504/6504 [==============================] - 56s 9ms/step - loss: 0.0777 - accuracy: 0.9713 - val_loss: 2.5577 - val_accuracy: 0.7269\n",
      "Epoch 18/200\n",
      "6504/6504 [==============================] - 56s 9ms/step - loss: 0.0746 - accuracy: 0.9732 - val_loss: 2.4700 - val_accuracy: 0.6921\n",
      "Epoch 19/200\n",
      "6504/6504 [==============================] - 56s 9ms/step - loss: 0.0753 - accuracy: 0.9744 - val_loss: 2.5261 - val_accuracy: 0.6942\n",
      "Epoch 20/200\n",
      "6504/6504 [==============================] - 55s 8ms/step - loss: 0.0698 - accuracy: 0.9746 - val_loss: 2.4379 - val_accuracy: 0.7029\n",
      "Epoch 21/200\n",
      "6504/6504 [==============================] - 55s 9ms/step - loss: 0.0770 - accuracy: 0.9732 - val_loss: 1.7582 - val_accuracy: 0.6715\n",
      "Epoch 22/200\n",
      "6504/6504 [==============================] - 55s 9ms/step - loss: 0.0724 - accuracy: 0.9740 - val_loss: 1.8840 - val_accuracy: 0.7145\n",
      "Epoch 23/200\n",
      "6504/6504 [==============================] - 56s 9ms/step - loss: 0.0714 - accuracy: 0.9744 - val_loss: 1.9540 - val_accuracy: 0.7041\n",
      "Epoch 24/200\n",
      "6504/6504 [==============================] - 57s 9ms/step - loss: 0.0679 - accuracy: 0.9746 - val_loss: 2.0174 - val_accuracy: 0.7219\n",
      "Epoch 25/200\n",
      "6504/6504 [==============================] - 57s 9ms/step - loss: 0.0724 - accuracy: 0.9757 - val_loss: 2.2381 - val_accuracy: 0.7133\n",
      "Epoch 26/200\n",
      "6504/6504 [==============================] - 57s 9ms/step - loss: 0.0685 - accuracy: 0.9772 - val_loss: 2.2000 - val_accuracy: 0.7290\n",
      "Epoch 27/200\n",
      "6504/6504 [==============================] - 56s 9ms/step - loss: 0.0707 - accuracy: 0.9753 - val_loss: 2.3988 - val_accuracy: 0.7161\n",
      "Epoch 28/200\n",
      "5032/6504 [======================>.......] - ETA: 12s - loss: 0.0646 - accuracy: 0.9770"
     ]
    },
    {
     "ename": "KeyboardInterrupt",
     "evalue": "",
     "output_type": "error",
     "traceback": [
      "\u001b[1;31m---------------------------------------------------------------------------\u001b[0m",
      "\u001b[1;31mKeyboardInterrupt\u001b[0m                         Traceback (most recent call last)",
      "\u001b[1;32m<ipython-input-39-bb7aad73aa4a>\u001b[0m in \u001b[0;36m<module>\u001b[1;34m\u001b[0m\n\u001b[0;32m      3\u001b[0m              metrics=['accuracy'])\n\u001b[0;32m      4\u001b[0m \u001b[1;33m\u001b[0m\u001b[0m\n\u001b[1;32m----> 5\u001b[1;33m history = model.fit(train, epochs=200,\n\u001b[0m\u001b[0;32m      6\u001b[0m                        validation_data=(test))\n",
      "\u001b[1;32m~\\AppData\\Local\\Packages\\PythonSoftwareFoundation.Python.3.8_qbz5n2kfra8p0\\LocalCache\\local-packages\\Python38\\site-packages\\tensorflow\\python\\keras\\engine\\training.py\u001b[0m in \u001b[0;36m_method_wrapper\u001b[1;34m(self, *args, **kwargs)\u001b[0m\n\u001b[0;32m    106\u001b[0m   \u001b[1;32mdef\u001b[0m \u001b[0m_method_wrapper\u001b[0m\u001b[1;33m(\u001b[0m\u001b[0mself\u001b[0m\u001b[1;33m,\u001b[0m \u001b[1;33m*\u001b[0m\u001b[0margs\u001b[0m\u001b[1;33m,\u001b[0m \u001b[1;33m**\u001b[0m\u001b[0mkwargs\u001b[0m\u001b[1;33m)\u001b[0m\u001b[1;33m:\u001b[0m\u001b[1;33m\u001b[0m\u001b[1;33m\u001b[0m\u001b[0m\n\u001b[0;32m    107\u001b[0m     \u001b[1;32mif\u001b[0m \u001b[1;32mnot\u001b[0m \u001b[0mself\u001b[0m\u001b[1;33m.\u001b[0m\u001b[0m_in_multi_worker_mode\u001b[0m\u001b[1;33m(\u001b[0m\u001b[1;33m)\u001b[0m\u001b[1;33m:\u001b[0m  \u001b[1;31m# pylint: disable=protected-access\u001b[0m\u001b[1;33m\u001b[0m\u001b[1;33m\u001b[0m\u001b[0m\n\u001b[1;32m--> 108\u001b[1;33m       \u001b[1;32mreturn\u001b[0m \u001b[0mmethod\u001b[0m\u001b[1;33m(\u001b[0m\u001b[0mself\u001b[0m\u001b[1;33m,\u001b[0m \u001b[1;33m*\u001b[0m\u001b[0margs\u001b[0m\u001b[1;33m,\u001b[0m \u001b[1;33m**\u001b[0m\u001b[0mkwargs\u001b[0m\u001b[1;33m)\u001b[0m\u001b[1;33m\u001b[0m\u001b[1;33m\u001b[0m\u001b[0m\n\u001b[0m\u001b[0;32m    109\u001b[0m \u001b[1;33m\u001b[0m\u001b[0m\n\u001b[0;32m    110\u001b[0m     \u001b[1;31m# Running inside `run_distribute_coordinator` already.\u001b[0m\u001b[1;33m\u001b[0m\u001b[1;33m\u001b[0m\u001b[1;33m\u001b[0m\u001b[0m\n",
      "\u001b[1;32m~\\AppData\\Local\\Packages\\PythonSoftwareFoundation.Python.3.8_qbz5n2kfra8p0\\LocalCache\\local-packages\\Python38\\site-packages\\tensorflow\\python\\keras\\engine\\training.py\u001b[0m in \u001b[0;36mfit\u001b[1;34m(self, x, y, batch_size, epochs, verbose, callbacks, validation_split, validation_data, shuffle, class_weight, sample_weight, initial_epoch, steps_per_epoch, validation_steps, validation_batch_size, validation_freq, max_queue_size, workers, use_multiprocessing)\u001b[0m\n\u001b[0;32m   1096\u001b[0m                 batch_size=batch_size):\n\u001b[0;32m   1097\u001b[0m               \u001b[0mcallbacks\u001b[0m\u001b[1;33m.\u001b[0m\u001b[0mon_train_batch_begin\u001b[0m\u001b[1;33m(\u001b[0m\u001b[0mstep\u001b[0m\u001b[1;33m)\u001b[0m\u001b[1;33m\u001b[0m\u001b[1;33m\u001b[0m\u001b[0m\n\u001b[1;32m-> 1098\u001b[1;33m               \u001b[0mtmp_logs\u001b[0m \u001b[1;33m=\u001b[0m \u001b[0mtrain_function\u001b[0m\u001b[1;33m(\u001b[0m\u001b[0miterator\u001b[0m\u001b[1;33m)\u001b[0m\u001b[1;33m\u001b[0m\u001b[1;33m\u001b[0m\u001b[0m\n\u001b[0m\u001b[0;32m   1099\u001b[0m               \u001b[1;32mif\u001b[0m \u001b[0mdata_handler\u001b[0m\u001b[1;33m.\u001b[0m\u001b[0mshould_sync\u001b[0m\u001b[1;33m:\u001b[0m\u001b[1;33m\u001b[0m\u001b[1;33m\u001b[0m\u001b[0m\n\u001b[0;32m   1100\u001b[0m                 \u001b[0mcontext\u001b[0m\u001b[1;33m.\u001b[0m\u001b[0masync_wait\u001b[0m\u001b[1;33m(\u001b[0m\u001b[1;33m)\u001b[0m\u001b[1;33m\u001b[0m\u001b[1;33m\u001b[0m\u001b[0m\n",
      "\u001b[1;32m~\\AppData\\Local\\Packages\\PythonSoftwareFoundation.Python.3.8_qbz5n2kfra8p0\\LocalCache\\local-packages\\Python38\\site-packages\\tensorflow\\python\\eager\\def_function.py\u001b[0m in \u001b[0;36m__call__\u001b[1;34m(self, *args, **kwds)\u001b[0m\n\u001b[0;32m    778\u001b[0m       \u001b[1;32melse\u001b[0m\u001b[1;33m:\u001b[0m\u001b[1;33m\u001b[0m\u001b[1;33m\u001b[0m\u001b[0m\n\u001b[0;32m    779\u001b[0m         \u001b[0mcompiler\u001b[0m \u001b[1;33m=\u001b[0m \u001b[1;34m\"nonXla\"\u001b[0m\u001b[1;33m\u001b[0m\u001b[1;33m\u001b[0m\u001b[0m\n\u001b[1;32m--> 780\u001b[1;33m         \u001b[0mresult\u001b[0m \u001b[1;33m=\u001b[0m \u001b[0mself\u001b[0m\u001b[1;33m.\u001b[0m\u001b[0m_call\u001b[0m\u001b[1;33m(\u001b[0m\u001b[1;33m*\u001b[0m\u001b[0margs\u001b[0m\u001b[1;33m,\u001b[0m \u001b[1;33m**\u001b[0m\u001b[0mkwds\u001b[0m\u001b[1;33m)\u001b[0m\u001b[1;33m\u001b[0m\u001b[1;33m\u001b[0m\u001b[0m\n\u001b[0m\u001b[0;32m    781\u001b[0m \u001b[1;33m\u001b[0m\u001b[0m\n\u001b[0;32m    782\u001b[0m       \u001b[0mnew_tracing_count\u001b[0m \u001b[1;33m=\u001b[0m \u001b[0mself\u001b[0m\u001b[1;33m.\u001b[0m\u001b[0m_get_tracing_count\u001b[0m\u001b[1;33m(\u001b[0m\u001b[1;33m)\u001b[0m\u001b[1;33m\u001b[0m\u001b[1;33m\u001b[0m\u001b[0m\n",
      "\u001b[1;32m~\\AppData\\Local\\Packages\\PythonSoftwareFoundation.Python.3.8_qbz5n2kfra8p0\\LocalCache\\local-packages\\Python38\\site-packages\\tensorflow\\python\\eager\\def_function.py\u001b[0m in \u001b[0;36m_call\u001b[1;34m(self, *args, **kwds)\u001b[0m\n\u001b[0;32m    805\u001b[0m       \u001b[1;31m# In this case we have created variables on the first call, so we run the\u001b[0m\u001b[1;33m\u001b[0m\u001b[1;33m\u001b[0m\u001b[1;33m\u001b[0m\u001b[0m\n\u001b[0;32m    806\u001b[0m       \u001b[1;31m# defunned version which is guaranteed to never create variables.\u001b[0m\u001b[1;33m\u001b[0m\u001b[1;33m\u001b[0m\u001b[1;33m\u001b[0m\u001b[0m\n\u001b[1;32m--> 807\u001b[1;33m       \u001b[1;32mreturn\u001b[0m \u001b[0mself\u001b[0m\u001b[1;33m.\u001b[0m\u001b[0m_stateless_fn\u001b[0m\u001b[1;33m(\u001b[0m\u001b[1;33m*\u001b[0m\u001b[0margs\u001b[0m\u001b[1;33m,\u001b[0m \u001b[1;33m**\u001b[0m\u001b[0mkwds\u001b[0m\u001b[1;33m)\u001b[0m  \u001b[1;31m# pylint: disable=not-callable\u001b[0m\u001b[1;33m\u001b[0m\u001b[1;33m\u001b[0m\u001b[0m\n\u001b[0m\u001b[0;32m    808\u001b[0m     \u001b[1;32melif\u001b[0m \u001b[0mself\u001b[0m\u001b[1;33m.\u001b[0m\u001b[0m_stateful_fn\u001b[0m \u001b[1;32mis\u001b[0m \u001b[1;32mnot\u001b[0m \u001b[1;32mNone\u001b[0m\u001b[1;33m:\u001b[0m\u001b[1;33m\u001b[0m\u001b[1;33m\u001b[0m\u001b[0m\n\u001b[0;32m    809\u001b[0m       \u001b[1;31m# Release the lock early so that multiple threads can perform the call\u001b[0m\u001b[1;33m\u001b[0m\u001b[1;33m\u001b[0m\u001b[1;33m\u001b[0m\u001b[0m\n",
      "\u001b[1;32m~\\AppData\\Local\\Packages\\PythonSoftwareFoundation.Python.3.8_qbz5n2kfra8p0\\LocalCache\\local-packages\\Python38\\site-packages\\tensorflow\\python\\eager\\function.py\u001b[0m in \u001b[0;36m__call__\u001b[1;34m(self, *args, **kwargs)\u001b[0m\n\u001b[0;32m   2827\u001b[0m     \u001b[1;32mwith\u001b[0m \u001b[0mself\u001b[0m\u001b[1;33m.\u001b[0m\u001b[0m_lock\u001b[0m\u001b[1;33m:\u001b[0m\u001b[1;33m\u001b[0m\u001b[1;33m\u001b[0m\u001b[0m\n\u001b[0;32m   2828\u001b[0m       \u001b[0mgraph_function\u001b[0m\u001b[1;33m,\u001b[0m \u001b[0margs\u001b[0m\u001b[1;33m,\u001b[0m \u001b[0mkwargs\u001b[0m \u001b[1;33m=\u001b[0m \u001b[0mself\u001b[0m\u001b[1;33m.\u001b[0m\u001b[0m_maybe_define_function\u001b[0m\u001b[1;33m(\u001b[0m\u001b[0margs\u001b[0m\u001b[1;33m,\u001b[0m \u001b[0mkwargs\u001b[0m\u001b[1;33m)\u001b[0m\u001b[1;33m\u001b[0m\u001b[1;33m\u001b[0m\u001b[0m\n\u001b[1;32m-> 2829\u001b[1;33m     \u001b[1;32mreturn\u001b[0m \u001b[0mgraph_function\u001b[0m\u001b[1;33m.\u001b[0m\u001b[0m_filtered_call\u001b[0m\u001b[1;33m(\u001b[0m\u001b[0margs\u001b[0m\u001b[1;33m,\u001b[0m \u001b[0mkwargs\u001b[0m\u001b[1;33m)\u001b[0m  \u001b[1;31m# pylint: disable=protected-access\u001b[0m\u001b[1;33m\u001b[0m\u001b[1;33m\u001b[0m\u001b[0m\n\u001b[0m\u001b[0;32m   2830\u001b[0m \u001b[1;33m\u001b[0m\u001b[0m\n\u001b[0;32m   2831\u001b[0m   \u001b[1;33m@\u001b[0m\u001b[0mproperty\u001b[0m\u001b[1;33m\u001b[0m\u001b[1;33m\u001b[0m\u001b[0m\n",
      "\u001b[1;32m~\\AppData\\Local\\Packages\\PythonSoftwareFoundation.Python.3.8_qbz5n2kfra8p0\\LocalCache\\local-packages\\Python38\\site-packages\\tensorflow\\python\\eager\\function.py\u001b[0m in \u001b[0;36m_filtered_call\u001b[1;34m(self, args, kwargs, cancellation_manager)\u001b[0m\n\u001b[0;32m   1841\u001b[0m       \u001b[0;31m`\u001b[0m\u001b[0margs\u001b[0m\u001b[0;31m`\u001b[0m \u001b[1;32mand\u001b[0m\u001b[0;31m \u001b[0m\u001b[0;31m`\u001b[0m\u001b[0mkwargs\u001b[0m\u001b[0;31m`\u001b[0m\u001b[1;33m.\u001b[0m\u001b[1;33m\u001b[0m\u001b[1;33m\u001b[0m\u001b[0m\n\u001b[0;32m   1842\u001b[0m     \"\"\"\n\u001b[1;32m-> 1843\u001b[1;33m     return self._call_flat(\n\u001b[0m\u001b[0;32m   1844\u001b[0m         [t for t in nest.flatten((args, kwargs), expand_composites=True)\n\u001b[0;32m   1845\u001b[0m          if isinstance(t, (ops.Tensor,\n",
      "\u001b[1;32m~\\AppData\\Local\\Packages\\PythonSoftwareFoundation.Python.3.8_qbz5n2kfra8p0\\LocalCache\\local-packages\\Python38\\site-packages\\tensorflow\\python\\eager\\function.py\u001b[0m in \u001b[0;36m_call_flat\u001b[1;34m(self, args, captured_inputs, cancellation_manager)\u001b[0m\n\u001b[0;32m   1921\u001b[0m         and executing_eagerly):\n\u001b[0;32m   1922\u001b[0m       \u001b[1;31m# No tape is watching; skip to running the function.\u001b[0m\u001b[1;33m\u001b[0m\u001b[1;33m\u001b[0m\u001b[1;33m\u001b[0m\u001b[0m\n\u001b[1;32m-> 1923\u001b[1;33m       return self._build_call_outputs(self._inference_function.call(\n\u001b[0m\u001b[0;32m   1924\u001b[0m           ctx, args, cancellation_manager=cancellation_manager))\n\u001b[0;32m   1925\u001b[0m     forward_backward = self._select_forward_and_backward_functions(\n",
      "\u001b[1;32m~\\AppData\\Local\\Packages\\PythonSoftwareFoundation.Python.3.8_qbz5n2kfra8p0\\LocalCache\\local-packages\\Python38\\site-packages\\tensorflow\\python\\eager\\function.py\u001b[0m in \u001b[0;36mcall\u001b[1;34m(self, ctx, args, cancellation_manager)\u001b[0m\n\u001b[0;32m    543\u001b[0m       \u001b[1;32mwith\u001b[0m \u001b[0m_InterpolateFunctionError\u001b[0m\u001b[1;33m(\u001b[0m\u001b[0mself\u001b[0m\u001b[1;33m)\u001b[0m\u001b[1;33m:\u001b[0m\u001b[1;33m\u001b[0m\u001b[1;33m\u001b[0m\u001b[0m\n\u001b[0;32m    544\u001b[0m         \u001b[1;32mif\u001b[0m \u001b[0mcancellation_manager\u001b[0m \u001b[1;32mis\u001b[0m \u001b[1;32mNone\u001b[0m\u001b[1;33m:\u001b[0m\u001b[1;33m\u001b[0m\u001b[1;33m\u001b[0m\u001b[0m\n\u001b[1;32m--> 545\u001b[1;33m           outputs = execute.execute(\n\u001b[0m\u001b[0;32m    546\u001b[0m               \u001b[0mstr\u001b[0m\u001b[1;33m(\u001b[0m\u001b[0mself\u001b[0m\u001b[1;33m.\u001b[0m\u001b[0msignature\u001b[0m\u001b[1;33m.\u001b[0m\u001b[0mname\u001b[0m\u001b[1;33m)\u001b[0m\u001b[1;33m,\u001b[0m\u001b[1;33m\u001b[0m\u001b[1;33m\u001b[0m\u001b[0m\n\u001b[0;32m    547\u001b[0m               \u001b[0mnum_outputs\u001b[0m\u001b[1;33m=\u001b[0m\u001b[0mself\u001b[0m\u001b[1;33m.\u001b[0m\u001b[0m_num_outputs\u001b[0m\u001b[1;33m,\u001b[0m\u001b[1;33m\u001b[0m\u001b[1;33m\u001b[0m\u001b[0m\n",
      "\u001b[1;32m~\\AppData\\Local\\Packages\\PythonSoftwareFoundation.Python.3.8_qbz5n2kfra8p0\\LocalCache\\local-packages\\Python38\\site-packages\\tensorflow\\python\\eager\\execute.py\u001b[0m in \u001b[0;36mquick_execute\u001b[1;34m(op_name, num_outputs, inputs, attrs, ctx, name)\u001b[0m\n\u001b[0;32m     57\u001b[0m   \u001b[1;32mtry\u001b[0m\u001b[1;33m:\u001b[0m\u001b[1;33m\u001b[0m\u001b[1;33m\u001b[0m\u001b[0m\n\u001b[0;32m     58\u001b[0m     \u001b[0mctx\u001b[0m\u001b[1;33m.\u001b[0m\u001b[0mensure_initialized\u001b[0m\u001b[1;33m(\u001b[0m\u001b[1;33m)\u001b[0m\u001b[1;33m\u001b[0m\u001b[1;33m\u001b[0m\u001b[0m\n\u001b[1;32m---> 59\u001b[1;33m     tensors = pywrap_tfe.TFE_Py_Execute(ctx._handle, device_name, op_name,\n\u001b[0m\u001b[0;32m     60\u001b[0m                                         inputs, attrs, num_outputs)\n\u001b[0;32m     61\u001b[0m   \u001b[1;32mexcept\u001b[0m \u001b[0mcore\u001b[0m\u001b[1;33m.\u001b[0m\u001b[0m_NotOkStatusException\u001b[0m \u001b[1;32mas\u001b[0m \u001b[0me\u001b[0m\u001b[1;33m:\u001b[0m\u001b[1;33m\u001b[0m\u001b[1;33m\u001b[0m\u001b[0m\n",
      "\u001b[1;31mKeyboardInterrupt\u001b[0m: "
     ]
    }
   ],
   "source": [
    "model.compile(optimizer='adam',\n",
    "             loss=tf.keras.losses.SparseCategoricalCrossentropy(from_logits=True),\n",
    "             metrics=['accuracy'])\n",
    "\n",
    "history = model.fit(train, epochs=200,\n",
    "                       validation_data=(test))"
   ]
  },
  {
   "cell_type": "code",
   "execution_count": 64,
   "metadata": {},
   "outputs": [
    {
     "data": {
      "text/plain": [
       "<matplotlib.legend.Legend at 0x20038034220>"
      ]
     },
     "execution_count": 64,
     "metadata": {},
     "output_type": "execute_result"
    },
    {
     "data": {
      "image/png": "[encoded data removed]",
      "text/plain": [
       "<Figure size 432x288 with 1 Axes>"
      ]
     },
     "metadata": {
      "needs_background": "light"
     },
     "output_type": "display_data"
    }
   ],
   "source": [
    "plt.plot(history.history['accuracy'], label='accuracy')\n",
    "plt.plot(history.history['val_accuracy'], label = 'val_accuracy')\n",
    "plt.xlabel('Epoch')\n",
    "plt.ylabel('Accuracy')\n",
    "plt.ylim([0, 1])\n",
    "plt.legend(loc='lower right')"
   ]
  },
  {
   "cell_type": "code",
   "execution_count": 65,
   "metadata": {},
   "outputs": [
    {
     "name": "stdout",
     "output_type": "stream",
     "text": [
      "161/161 - 1s - loss: 1.3547 - accuracy: 0.5867\n"
     ]
    }
   ],
   "source": [
    "test_loss, test_acc = model.evaluate(test, verbose=2)"
   ]
  }
 ],
 "metadata": {
  "kernelspec": {
   "display_name": "Python 3",
   "language": "python",
   "name": "python3"
  },
  "language_info": {
   "codemirror_mode": {
    "name": "ipython",
    "version": 3
   },
   "file_extension": ".py",
   "mimetype": "text/x-python",
   "name": "python",
   "nbconvert_exporter": "python",
   "pygments_lexer": "ipython3",
   "version": "3.8.6"
  }
 },
 "nbformat": 4,
 "nbformat_minor": 4
}
