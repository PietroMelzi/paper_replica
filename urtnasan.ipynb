{
 "cells": [
  {
   "cell_type": "code",
   "execution_count": 1,
   "metadata": {},
   "outputs": [],
   "source": [
    "import tensorflow as tf\n",
    "import pandas as pd\n",
    "import numpy as np\n",
    "\n",
    "from tensorflow.keras import datasets, layers, models\n",
    "import matplotlib.pyplot as plt\n",
    "from tensorflow.keras.layers.experimental import preprocessing"
   ]
  },
  {
   "cell_type": "markdown",
   "metadata": {},
   "source": [
    "LOAD DATA FROM AFPDB"
   ]
  },
  {
   "cell_type": "code",
   "execution_count": 2,
   "metadata": {},
   "outputs": [
    {
     "name": "stdout",
     "output_type": "stream",
     "text": [
      "AFPDB - Train labels size:  4800\n",
      "AFPDB - Test labels size:   1200\n"
     ]
    }
   ],
   "source": [
    "import pathlib\n",
    "font_csvs =  [str(p) for p in pathlib.Path('preproc_data/afpdb').glob(\"*.csv\")]\n",
    "train_csvs = font_csvs[0:40]+font_csvs[50:90]\n",
    "test_csvs = font_csvs[40:50]+font_csvs[90:100]\n",
    "afpdb_train_labels = np.array([0]*40*60+[1]*40*60)\n",
    "afpdb_test_labels = np.array([0]*10*60+[1]*10*60)\n",
    "print(\"AFPDB - Train labels size: \", afpdb_train_labels.size)\n",
    "print(\"AFPDB - Test labels size:  \", afpdb_test_labels.size)"
   ]
  },
  {
   "cell_type": "code",
   "execution_count": 3,
   "metadata": {},
   "outputs": [
    {
     "name": "stdout",
     "output_type": "stream",
     "text": [
      "AFPDB - Train data shape:  (4800, 900, 1)\n"
     ]
    }
   ],
   "source": [
    "afpdb_train_data = np.array([])\n",
    "for csv in train_csvs:\n",
    "    data = pd.read_csv(csv, header=None)\n",
    "    for c in range(data.shape[1]):\n",
    "        row = np.array([np.array([data.iloc[:, c]])])\n",
    "        if afpdb_train_data.shape[0] == 0:\n",
    "            afpdb_train_data = row\n",
    "        else:\n",
    "            afpdb_train_data = np.vstack((afpdb_train_data, row))\n",
    "afpdb_train_data = np.moveaxis(afpdb_train_data, 1, 2)\n",
    "print(\"AFPDB - Train data shape: \", afpdb_train_data.shape)"
   ]
  },
  {
   "cell_type": "code",
   "execution_count": 4,
   "metadata": {},
   "outputs": [
    {
     "name": "stdout",
     "output_type": "stream",
     "text": [
      "AFPDB - Test data shape:  (1200, 900, 1)\n"
     ]
    }
   ],
   "source": [
    "afpdb_test_data = np.array([])\n",
    "for csv in test_csvs:\n",
    "    data = pd.read_csv(csv, header=None)\n",
    "    for c in range(data.shape[1]):\n",
    "        row = np.array([np.array([data.iloc[:, c]])])\n",
    "        if afpdb_test_data.shape[0] == 0:\n",
    "            afpdb_test_data = row\n",
    "        else:\n",
    "            afpdb_test_data = np.vstack((afpdb_test_data, row))\n",
    "afpdb_test_data = np.moveaxis(afpdb_test_data, 1, 2)\n",
    "print(\"AFPDB - Test data shape: \", afpdb_test_data.shape)"
   ]
  },
  {
   "cell_type": "markdown",
   "metadata": {},
   "source": [
    "LOAD DATA FROM AFDB"
   ]
  },
  {
   "cell_type": "code",
   "execution_count": 5,
   "metadata": {},
   "outputs": [
    {
     "name": "stdout",
     "output_type": "stream",
     "text": [
      "AFDB data shape:  (5253, 900, 1)\n"
     ]
    }
   ],
   "source": [
    "afdb_csvs =  [str(p) for p in pathlib.Path('preproc_data/afdb').glob(\"*.csv\")]\n",
    "afdb_data = np.array([])\n",
    "for csv in afdb_csvs:\n",
    "    data = pd.read_csv(csv, header=None)\n",
    "    for c in range(data.shape[1]):\n",
    "        row = np.array([np.array([data.iloc[:, c]])])\n",
    "        if afdb_data.shape[0] == 0:\n",
    "            afdb_data = row\n",
    "        else:\n",
    "            afdb_data = np.vstack((afdb_data, row))\n",
    "afdb_data = np.moveaxis(afdb_data, 1, 2)\n",
    "print(\"AFDB data shape: \", afdb_data.shape)"
   ]
  },
  {
   "cell_type": "code",
   "execution_count": 6,
   "metadata": {},
   "outputs": [
    {
     "name": "stdout",
     "output_type": "stream",
     "text": [
      "AFDB - Train data shape:  (4203, 900, 1)\n",
      "AFDB - Test data shape:   (1050, 900, 1)\n"
     ]
    }
   ],
   "source": [
    "import math\n",
    "TEST_PROP = 0.8\n",
    "index_split = math.ceil(afdb_data.shape[0] * TEST_PROP)\n",
    "afdb_train = afdb_data[:index_split,:,:]\n",
    "afdb_test = afdb_data[index_split:,:,:]\n",
    "print(\"AFDB - Train data shape: \", afdb_train.shape)\n",
    "print(\"AFDB - Test data shape:  \", afdb_test.shape)"
   ]
  },
  {
   "cell_type": "code",
   "execution_count": 7,
   "metadata": {},
   "outputs": [
    {
     "name": "stdout",
     "output_type": "stream",
     "text": [
      "Total - Train labels size:  9003\n",
      "Total - Test labels size:   2250\n"
     ]
    }
   ],
   "source": [
    "afdb_train_labels = np.array([1]*afdb_train.shape[0])\n",
    "afdb_test_labels = np.array([1]*afdb_test.shape[0])\n",
    "train_labels = np.concatenate((afpdb_train_labels, afdb_train_labels))\n",
    "test_labels = np.concatenate((afpdb_test_labels, afdb_test_labels))\n",
    "print(\"Total - Train labels size: \", train_labels.size)\n",
    "print(\"Total - Test labels size:  \", test_labels.size)"
   ]
  },
  {
   "cell_type": "code",
   "execution_count": 8,
   "metadata": {},
   "outputs": [
    {
     "name": "stdout",
     "output_type": "stream",
     "text": [
      "Total - Train data shape:  (9003, 900, 1)\n",
      "Total - Test data shape:  (2250, 900, 1)\n"
     ]
    }
   ],
   "source": [
    "train_data = np.concatenate((afpdb_train_data, afdb_train))\n",
    "test_data = np.concatenate((afpdb_test_data, afdb_test))\n",
    "print(\"Total - Train data shape: \", train_data.shape)\n",
    "print(\"Total - Test data shape: \", test_data.shape)"
   ]
  },
  {
   "cell_type": "markdown",
   "metadata": {},
   "source": [
    "LOAD DATA FROM NSRDB"
   ]
  },
  {
   "cell_type": "code",
   "execution_count": 9,
   "metadata": {},
   "outputs": [
    {
     "name": "stdout",
     "output_type": "stream",
     "text": [
      "NSRDB data shape:  (6840, 900, 1)\n"
     ]
    }
   ],
   "source": [
    "nsrdb_csvs =  [str(p) for p in pathlib.Path('preproc_data/nsrdb').glob(\"*.csv\")]\n",
    "nsrdb_data = np.array([])\n",
    "for csv in nsrdb_csvs:\n",
    "    data = pd.read_csv(csv, header=None)\n",
    "    for c in range(data.shape[1]):\n",
    "        row = np.array([np.array([data.iloc[:, c]])])\n",
    "        if nsrdb_data.shape[0] == 0:\n",
    "            nsrdb_data = row\n",
    "        else:\n",
    "            nsrdb_data = np.vstack((nsrdb_data, row))\n",
    "nsrdb_data = np.moveaxis(nsrdb_data, 1, 2)\n",
    "print(\"NSRDB data shape: \", nsrdb_data.shape)"
   ]
  },
  {
   "cell_type": "code",
   "execution_count": 10,
   "metadata": {},
   "outputs": [
    {
     "name": "stdout",
     "output_type": "stream",
     "text": [
      "NSRDB - Train data shape:  (5472, 900, 1)\n",
      "NSRDB - Test data shape:   (1368, 900, 1)\n"
     ]
    }
   ],
   "source": [
    "index_split = math.ceil(nsrdb_data.shape[0] * TEST_PROP)\n",
    "nsrdb_train = nsrdb_data[:index_split,:,:]\n",
    "nsrdb_test = nsrdb_data[index_split:,:,:]\n",
    "print(\"NSRDB - Train data shape: \", nsrdb_train.shape)\n",
    "print(\"NSRDB - Test data shape:  \", nsrdb_test.shape)"
   ]
  },
  {
   "cell_type": "code",
   "execution_count": 11,
   "metadata": {},
   "outputs": [
    {
     "name": "stdout",
     "output_type": "stream",
     "text": [
      "Total - Train labels size:  14475\n",
      "Total - Test labels size:   3618\n"
     ]
    }
   ],
   "source": [
    "nsrdb_train_labels = np.array([0]*nsrdb_train.shape[0])\n",
    "nsrdb_test_labels = np.array([0]*nsrdb_test.shape[0])\n",
    "train_labels2 = np.concatenate((train_labels, nsrdb_train_labels))\n",
    "test_labels2 = np.concatenate((test_labels, nsrdb_test_labels))\n",
    "print(\"Total - Train labels size: \", train_labels2.size)\n",
    "print(\"Total - Test labels size:  \", test_labels2.size)"
   ]
  },
  {
   "cell_type": "code",
   "execution_count": 12,
   "metadata": {},
   "outputs": [
    {
     "name": "stdout",
     "output_type": "stream",
     "text": [
      "Total - Train data shape:  (14475, 900, 1)\n",
      "Total - Test data shape:   (3618, 900, 1)\n"
     ]
    }
   ],
   "source": [
    "train_data2 = np.concatenate((train_data, nsrdb_train))\n",
    "test_data2 = np.concatenate((test_data, nsrdb_test))\n",
    "print(\"Total - Train data shape: \", train_data2.shape)\n",
    "print(\"Total - Test data shape:  \", test_data2.shape)"
   ]
  },
  {
   "cell_type": "markdown",
   "metadata": {},
   "source": [
    "BUILD DATASET OBJECTS"
   ]
  },
  {
   "cell_type": "code",
   "execution_count": 68,
   "metadata": {},
   "outputs": [
    {
     "name": "stdout",
     "output_type": "stream",
     "text": [
      "Train labels shape:  (14475, 2)\n",
      "Test labels shape:   (3618, 2)\n"
     ]
    }
   ],
   "source": [
    "not_train_labels2 = np.logical_not(train_labels2).astype(int)\n",
    "not_test_labels2 = np.logical_not(test_labels2).astype(int)\n",
    "train_labels_def = np.array([not_train_labels2, train_labels2])\n",
    "test_labels_def = np.array([not_test_labels2, test_labels2])\n",
    "train_labels_def = np.swapaxes(train_labels_def, 0, 1)\n",
    "test_labels_def = np.swapaxes(test_labels_def, 0, 1)\n",
    "print(\"Train labels shape: \", train_labels_def.shape)\n",
    "print(\"Test labels shape:  \", test_labels_def.shape)"
   ]
  },
  {
   "cell_type": "code",
   "execution_count": 73,
   "metadata": {},
   "outputs": [
    {
     "name": "stdout",
     "output_type": "stream",
     "text": [
      "Data batch size:    (2, 900, 1)\n",
      "Labels batch size:  (2, 2)\n"
     ]
    }
   ],
   "source": [
    "train = tf.data.Dataset.from_tensor_slices((train_data2, train_labels_def))\n",
    "test = tf.data.Dataset.from_tensor_slices((test_data2, test_labels_def))\n",
    "\n",
    "train = train.shuffle(len(train)).batch(2)\n",
    "test = test.batch(1)\n",
    "\n",
    "for d, l in train.take(1):\n",
    "    print (\"Data batch size:   \", d.shape)\n",
    "    print (\"Labels batch size: \", l.shape)"
   ]
  },
  {
   "cell_type": "code",
   "execution_count": 74,
   "metadata": {},
   "outputs": [
    {
     "name": "stdout",
     "output_type": "stream",
     "text": [
      "Model: \"sequential_15\"\n",
      "_________________________________________________________________\n",
      "Layer (type)                 Output Shape              Param #   \n",
      "=================================================================\n",
      "batch_normalization_15 (Batc (None, 900, 1)            4         \n",
      "_________________________________________________________________\n",
      "conv1d_75 (Conv1D)           (None, 893, 16)           144       \n",
      "_________________________________________________________________\n",
      "max_pooling1d_60 (MaxPooling (None, 446, 16)           0         \n",
      "_________________________________________________________________\n",
      "dropout_60 (Dropout)         (None, 446, 16)           0         \n",
      "_________________________________________________________________\n",
      "conv1d_76 (Conv1D)           (None, 443, 32)           2080      \n",
      "_________________________________________________________________\n",
      "conv1d_77 (Conv1D)           (None, 440, 32)           4128      \n",
      "_________________________________________________________________\n",
      "max_pooling1d_61 (MaxPooling (None, 220, 32)           0         \n",
      "_________________________________________________________________\n",
      "dropout_61 (Dropout)         (None, 220, 32)           0         \n",
      "_________________________________________________________________\n",
      "dense_45 (Dense)             (None, 220, 16)           528       \n",
      "_________________________________________________________________\n",
      "max_pooling1d_62 (MaxPooling (None, 110, 16)           0         \n",
      "_________________________________________________________________\n",
      "dropout_62 (Dropout)         (None, 110, 16)           0         \n",
      "_________________________________________________________________\n",
      "conv1d_78 (Conv1D)           (None, 109, 32)           1056      \n",
      "_________________________________________________________________\n",
      "conv1d_79 (Conv1D)           (None, 108, 32)           2080      \n",
      "_________________________________________________________________\n",
      "max_pooling1d_63 (MaxPooling (None, 54, 32)            0         \n",
      "_________________________________________________________________\n",
      "dropout_63 (Dropout)         (None, 54, 32)            0         \n",
      "_________________________________________________________________\n",
      "dense_46 (Dense)             (None, 54, 8)             264       \n",
      "_________________________________________________________________\n",
      "flatten_15 (Flatten)         (None, 432)               0         \n",
      "_________________________________________________________________\n",
      "dense_47 (Dense)             (None, 2)                 866       \n",
      "=================================================================\n",
      "Total params: 11,150\n",
      "Trainable params: 11,148\n",
      "Non-trainable params: 2\n",
      "_________________________________________________________________\n"
     ]
    }
   ],
   "source": [
    "model = models.Sequential()\n",
    "model.add(layers.BatchNormalization(input_shape=(900,1)))\n",
    "model.add(layers.Conv1D(16,8))\n",
    "\n",
    "model.add(layers.MaxPool1D(strides=2))\n",
    "model.add(layers.Dropout(0.25))\n",
    "model.add(layers.Conv1D(32,4))\n",
    "model.add(layers.Conv1D(32,4))\n",
    "model.add(layers.MaxPool1D(strides=2))\n",
    "model.add(layers.Dropout(0.25))\n",
    "model.add(layers.Dense(16, activation='relu'))\n",
    "\n",
    "model.add(layers.MaxPool1D(strides=2))\n",
    "model.add(layers.Dropout(0.25))\n",
    "model.add(layers.Conv1D(32,2))\n",
    "model.add(layers.Conv1D(32,2))\n",
    "model.add(layers.MaxPool1D(strides=2))\n",
    "model.add(layers.Dropout(0.25))\n",
    "model.add(layers.Dense(8, activation='relu'))\n",
    "\n",
    "model.add(layers.Flatten())\n",
    "model.add(layers.Dense(2))\n",
    "\n",
    "model.summary()"
   ]
  },
  {
   "cell_type": "code",
   "execution_count": 75,
   "metadata": {},
   "outputs": [],
   "source": [
    "class CategoricalTruePositives(tf.keras.metrics.Metric):\n",
    "    def __init__(self, name=\"TP\", **kwargs):\n",
    "        super(CategoricalTruePositives, self).__init__(name=name, **kwargs)\n",
    "        self.true_positives = self.add_weight(name=\"ctp\", initializer=\"zeros\")\n",
    "\n",
    "    def update_state(self, y_true, y_pred, sample_weight=None):\n",
    "        y_pred = tf.reshape(tf.argmax(y_pred, axis=1), shape=(-1, 1))\n",
    "        y_true = tf.reshape(tf.argmax(y_true, axis=1), shape=(-1, 1))\n",
    "        values = (tf.cast(y_true, \"int32\") == tf.cast(y_pred, \"int32\")) & (tf.cast(y_true, \"int32\") > 0)\n",
    "        values = tf.cast(values, \"float32\")\n",
    "        if sample_weight is not None:\n",
    "            sample_weight = tf.cast(sample_weight, \"float32\")\n",
    "            values = tf.multiply(values, sample_weight)\n",
    "        self.true_positives.assign_add(tf.reduce_sum(values))\n",
    "\n",
    "    def result(self):\n",
    "        return self.true_positives\n",
    "\n",
    "    def reset_states(self):\n",
    "        # The state of the metric will be reset at the start of each epoch.\n",
    "        self.true_positives.assign(0.0)\n",
    "        \n",
    "class CategoricalTrueNegatives(tf.keras.metrics.Metric):\n",
    "    def __init__(self, name=\"TN\", **kwargs):\n",
    "        super(CategoricalTrueNegatives, self).__init__(name=name, **kwargs)\n",
    "        self.true_positives = self.add_weight(name=\"ctp\", initializer=\"zeros\")\n",
    "\n",
    "    def update_state(self, y_true, y_pred, sample_weight=None):\n",
    "        y_pred = tf.reshape(tf.argmax(y_pred, axis=1), shape=(-1, 1))\n",
    "        y_true = tf.reshape(tf.argmax(y_true, axis=1), shape=(-1, 1))\n",
    "        values = (tf.cast(y_true, \"int32\") == tf.cast(y_pred, \"int32\")) & (tf.cast(y_true, \"int32\") < 1)\n",
    "        values = tf.cast(values, \"float32\")\n",
    "        if sample_weight is not None:\n",
    "            sample_weight = tf.cast(sample_weight, \"float32\")\n",
    "            values = tf.multiply(values, sample_weight)\n",
    "        self.true_positives.assign_add(tf.reduce_sum(values))\n",
    "\n",
    "    def result(self):\n",
    "        return self.true_positives\n",
    "\n",
    "    def reset_states(self):\n",
    "        # The state of the metric will be reset at the start of each epoch.\n",
    "        self.true_positives.assign(0.0)\n",
    "        \n",
    "class CategoricalFalsePositives(tf.keras.metrics.Metric):\n",
    "    def __init__(self, name=\"FP\", **kwargs):\n",
    "        super(CategoricalFalsePositives, self).__init__(name=name, **kwargs)\n",
    "        self.true_positives = self.add_weight(name=\"ctp\", initializer=\"zeros\")\n",
    "\n",
    "    def update_state(self, y_true, y_pred, sample_weight=None):\n",
    "        y_pred = tf.reshape(tf.argmax(y_pred, axis=1), shape=(-1, 1))\n",
    "        y_true = tf.reshape(tf.argmax(y_true, axis=1), shape=(-1, 1))\n",
    "        values = (tf.cast(y_true, \"int32\") != tf.cast(y_pred, \"int32\")) & (tf.cast(y_true, \"int32\") < 1)\n",
    "        values = tf.cast(values, \"float32\")\n",
    "        if sample_weight is not None:\n",
    "            sample_weight = tf.cast(sample_weight, \"float32\")\n",
    "            values = tf.multiply(values, sample_weight)\n",
    "        self.true_positives.assign_add(tf.reduce_sum(values))\n",
    "\n",
    "    def result(self):\n",
    "        return self.true_positives\n",
    "\n",
    "    def reset_states(self):\n",
    "        # The state of the metric will be reset at the start of each epoch.\n",
    "        self.true_positives.assign(0.0)\n",
    "        \n",
    "class CategoricalFalseNegatives(tf.keras.metrics.Metric):\n",
    "    def __init__(self, name=\"FN\", **kwargs):\n",
    "        super(CategoricalFalseNegatives, self).__init__(name=name, **kwargs)\n",
    "        self.true_positives = self.add_weight(name=\"ctp\", initializer=\"zeros\")\n",
    "\n",
    "    def update_state(self, y_true, y_pred, sample_weight=None):\n",
    "        y_pred = tf.reshape(tf.argmax(y_pred, axis=1), shape=(-1, 1))\n",
    "        y_true = tf.reshape(tf.argmax(y_true, axis=1), shape=(-1, 1))\n",
    "        values = (tf.cast(y_true, \"int32\") != tf.cast(y_pred, \"int32\")) & (tf.cast(y_true, \"int32\") > 0)\n",
    "        values = tf.cast(values, \"float32\")\n",
    "        if sample_weight is not None:\n",
    "            sample_weight = tf.cast(sample_weight, \"float32\")\n",
    "            values = tf.multiply(values, sample_weight)\n",
    "        self.true_positives.assign_add(tf.reduce_sum(values))\n",
    "\n",
    "    def result(self):\n",
    "        return self.true_positives\n",
    "\n",
    "    def reset_states(self):\n",
    "        # The state of the metric will be reset at the start of each epoch.\n",
    "        self.true_positives.assign(0.0)"
   ]
  },
  {
   "cell_type": "code",
   "execution_count": 76,
   "metadata": {},
   "outputs": [
    {
     "name": "stdout",
     "output_type": "stream",
     "text": [
      "Epoch 1/10\n",
      "7238/7238 [==============================] - 69s 9ms/step - loss: 0.4207 - accuracy: 0.7750 - TP: 4959.0000 - TN: 6259.0000 - FP: 1613.0000 - FN: 1644.0000 - val_loss: 0.5363 - val_accuracy: 0.8181 - val_TP: 1589.0000 - val_TN: 1371.0000 - val_FP: 597.0000 - val_FN: 61.0000\n",
      "Epoch 2/10\n",
      "7238/7238 [==============================] - 68s 9ms/step - loss: 0.2752 - accuracy: 0.8791 - TP: 6273.0000 - TN: 6452.0000 - FP: 1420.0000 - FN: 330.0000 - val_loss: 0.6038 - val_accuracy: 0.7557 - val_TP: 1366.0000 - val_TN: 1368.0000 - val_FP: 600.0000 - val_FN: 284.0000\n",
      "Epoch 3/10\n",
      "7238/7238 [==============================] - 68s 9ms/step - loss: 0.2248 - accuracy: 0.9055 - TP: 6275.0000 - TN: 6832.0000 - FP: 1040.0000 - FN: 328.0000 - val_loss: 0.9424 - val_accuracy: 0.7648 - val_TP: 1400.0000 - val_TN: 1367.0000 - val_FP: 601.0000 - val_FN: 250.0000\n",
      "Epoch 4/10\n",
      "7238/7238 [==============================] - 70s 10ms/step - loss: 0.1871 - accuracy: 0.9323 - TP: 6314.0000 - TN: 7181.0000 - FP: 691.0000 - FN: 289.0000 - val_loss: 0.9823 - val_accuracy: 0.6774 - val_TP: 1083.0000 - val_TN: 1368.0000 - val_FP: 600.0000 - val_FN: 567.0000\n",
      "Epoch 5/10\n",
      "7238/7238 [==============================] - 69s 9ms/step - loss: 0.1603 - accuracy: 0.9390 - TP: 6322.0000 - TN: 7270.0000 - FP: 602.0000 - FN: 281.0000 - val_loss: 1.1403 - val_accuracy: 0.7095 - val_TP: 1199.0000 - val_TN: 1368.0000 - val_FP: 600.0000 - val_FN: 451.0000\n",
      "Epoch 6/10\n",
      "7238/7238 [==============================] - 70s 10ms/step - loss: 0.1439 - accuracy: 0.9442 - TP: 6338.0000 - TN: 7329.0000 - FP: 543.0000 - FN: 265.0000 - val_loss: 1.1181 - val_accuracy: 0.7084 - val_TP: 1195.0000 - val_TN: 1368.0000 - val_FP: 600.0000 - val_FN: 455.0000\n",
      "Epoch 7/10\n",
      "7238/7238 [==============================] - 70s 10ms/step - loss: 0.1327 - accuracy: 0.9514 - TP: 6363.0000 - TN: 7408.0000 - FP: 464.0000 - FN: 240.0000 - val_loss: 1.1025 - val_accuracy: 0.7510 - val_TP: 1349.0000 - val_TN: 1368.0000 - val_FP: 600.0000 - val_FN: 301.0000\n",
      "Epoch 8/10\n",
      "7238/7238 [==============================] - 70s 10ms/step - loss: 0.1179 - accuracy: 0.9564 - TP: 6383.0000 - TN: 7461.0000 - FP: 411.0000 - FN: 220.0000 - val_loss: 1.3638 - val_accuracy: 0.7394 - val_TP: 1307.0000 - val_TN: 1368.0000 - val_FP: 600.0000 - val_FN: 343.0000\n",
      "Epoch 9/10\n",
      "7238/7238 [==============================] - 69s 9ms/step - loss: 0.1141 - accuracy: 0.9532 - TP: 6362.0000 - TN: 7436.0000 - FP: 436.0000 - FN: 241.0000 - val_loss: 1.3469 - val_accuracy: 0.7438 - val_TP: 1323.0000 - val_TN: 1368.0000 - val_FP: 600.0000 - val_FN: 327.0000\n",
      "Epoch 10/10\n",
      "7238/7238 [==============================] - 69s 10ms/step - loss: 0.0987 - accuracy: 0.9645 - TP: 6423.0000 - TN: 7538.0000 - FP: 334.0000 - FN: 180.0000 - val_loss: 1.3130 - val_accuracy: 0.7482 - val_TP: 1339.0000 - val_TN: 1368.0000 - val_FP: 600.0000 - val_FN: 311.0000\n"
     ]
    }
   ],
   "source": [
    "lr_schedule = tf.keras.optimizers.schedules.ExponentialDecay(initial_learning_rate=0.0001,\n",
    "    decay_steps=10000,\n",
    "    decay_rate=0.9)\n",
    "\n",
    "model.compile(optimizer=tf.keras.optimizers.Adam(learning_rate=lr_schedule),\n",
    "             loss=tf.keras.losses.CategoricalCrossentropy(from_logits=True),\n",
    "             metrics=['accuracy', CategoricalTruePositives(), CategoricalTrueNegatives(),\n",
    "                     CategoricalFalsePositives(), CategoricalFalseNegatives()])\n",
    "\n",
    "history = model.fit(train, epochs=10,\n",
    "                       validation_data=(test))"
   ]
  },
  {
   "cell_type": "code",
   "execution_count": 82,
   "metadata": {},
   "outputs": [
    {
     "name": "stdout",
     "output_type": "stream",
     "text": [
      "Test afpdb NR:  {1: 600}\n",
      "Test afpdb AF:  {0: 280, 1: 920}\n",
      "Test afdb  AF:  {0: 311, 1: 1939}\n",
      "Test nsrdb NR:  {0: 1679, 1: 1939}\n"
     ]
    }
   ],
   "source": [
    "test_afpdb_nr = model.predict(test.take(600))\n",
    "test_afpdb_af = model.predict(test.take(1200))\n",
    "test_afdb_af = model.predict(test.take(2250))\n",
    "test_nsrdb_nr = model.predict(test.take(3618))\n",
    "\n",
    "test_afpdb_nr = np.argmax(test_afpdb_nr, axis=1)\n",
    "test_afpdb_af = np.argmax(test_afpdb_af, axis=1)\n",
    "test_afdb_af = np.argmax(test_afdb_af, axis=1)\n",
    "test_nsrdb_nr = np.argmax(test_nsrdb_nr, axis=1)\n",
    "\n",
    "a, b = np.unique(test_afpdb_nr, return_counts=True)\n",
    "print(\"Test afpdb NR: \", dict(zip(a, b)))\n",
    "c, d = np.unique(test_afpdb_af, return_counts=True)\n",
    "print(\"Test afpdb AF: \", dict(zip(c, d)))\n",
    "unique, counts = np.unique(test_afdb_af, return_counts=True)\n",
    "print(\"Test afdb  AF: \", dict(zip(unique, counts)))\n",
    "unique, counts = np.unique(test_nsrdb_nr, return_counts=True)\n",
    "print(\"Test nsrdb NR: \", dict(zip(unique, counts)))"
   ]
  },
  {
   "cell_type": "code",
   "execution_count": 19,
   "metadata": {},
   "outputs": [
    {
     "data": {
      "text/plain": [
       "<matplotlib.legend.Legend at 0x27ae19d05e0>"
      ]
     },
     "execution_count": 19,
     "metadata": {},
     "output_type": "execute_result"
    },
    {
     "data": {
      "image/png": "[encoded data removed]",
      "text/plain": [
       "<Figure size 864x432 with 1 Axes>"
      ]
     },
     "metadata": {
      "needs_background": "light"
     },
     "output_type": "display_data"
    }
   ],
   "source": [
    "plt.rcParams['figure.figsize'] = [12, 6]\n",
    "plt.plot(history.history['accuracy'], label='accuracy')\n",
    "plt.plot(history.history['val_accuracy'], label = 'val_accuracy')\n",
    "plt.xlabel('Epoch')\n",
    "plt.ylabel('Accuracy')\n",
    "plt.ylim([0.6, 1])\n",
    "plt.legend(loc='lower right')"
   ]
  },
  {
   "cell_type": "code",
   "execution_count": 20,
   "metadata": {},
   "outputs": [
    {
     "name": "stdout",
     "output_type": "stream",
     "text": [
      "227/227 - 1s - loss: 3.3507 - accuracy: 0.7499\n"
     ]
    }
   ],
   "source": [
    "test_loss, test_acc = model.evaluate(test, verbose=2)"
   ]
  }
 ],
 "metadata": {
  "kernelspec": {
   "display_name": "Python 3",
   "language": "python",
   "name": "python3"
  },
  "language_info": {
   "codemirror_mode": {
    "name": "ipython",
    "version": 3
   },
   "file_extension": ".py",
   "mimetype": "text/x-python",
   "name": "python",
   "nbconvert_exporter": "python",
   "pygments_lexer": "ipython3",
   "version": "3.8.6"
  }
 },
 "nbformat": 4,
 "nbformat_minor": 4
}
