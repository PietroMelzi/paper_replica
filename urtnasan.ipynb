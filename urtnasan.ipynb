{
 "cells": [
  {
   "cell_type": "code",
   "execution_count": 3,
   "metadata": {},
   "outputs": [],
   "source": [
    "import tensorflow as tf\n",
    "import pandas as pd\n",
    "import numpy as np\n",
    "\n",
    "from tensorflow.keras import datasets, layers, models\n",
    "import matplotlib.pyplot as plt\n",
    "from tensorflow.keras.layers.experimental import preprocessing"
   ]
  },
  {
   "cell_type": "markdown",
   "metadata": {},
   "source": [
    "LOAD DATA FROM AFPDB"
   ]
  },
  {
   "cell_type": "code",
   "execution_count": 4,
   "metadata": {},
   "outputs": [
    {
     "name": "stdout",
     "output_type": "stream",
     "text": [
      "AFPDB - Train labels size:  4800\n",
      "AFPDB - Test labels size:   1200\n"
     ]
    }
   ],
   "source": [
    "import pathlib\n",
    "font_csvs =  [str(p) for p in pathlib.Path('preproc_data/afpdb').glob(\"*.csv\")]\n",
    "train_csvs = font_csvs[0:40]+font_csvs[50:90]\n",
    "test_csvs = font_csvs[40:50]+font_csvs[90:100]\n",
    "afpdb_train_labels = np.array([0]*40*60+[1]*40*60)\n",
    "afpdb_test_labels = np.array([0]*10*60+[1]*10*60)\n",
    "print(\"AFPDB - Train labels size: \", afpdb_train_labels.size)\n",
    "print(\"AFPDB - Test labels size:  \", afpdb_test_labels.size)"
   ]
  },
  {
   "cell_type": "code",
   "execution_count": 5,
   "metadata": {},
   "outputs": [
    {
     "name": "stdout",
     "output_type": "stream",
     "text": [
      "AFPDB - Train data shape:  (4800, 900, 1)\n"
     ]
    }
   ],
   "source": [
    "afpdb_train_data = np.array([])\n",
    "for csv in train_csvs:\n",
    "    data = pd.read_csv(csv, header=None)\n",
    "    for c in range(data.shape[1]):\n",
    "        row = np.array([np.array([data.iloc[:, c]])])\n",
    "        if afpdb_train_data.shape[0] == 0:\n",
    "            afpdb_train_data = row\n",
    "        else:\n",
    "            afpdb_train_data = np.vstack((afpdb_train_data, row))\n",
    "afpdb_train_data = np.moveaxis(afpdb_train_data, 1, 2)\n",
    "print(\"AFPDB - Train data shape: \", afpdb_train_data.shape)"
   ]
  },
  {
   "cell_type": "code",
   "execution_count": 6,
   "metadata": {},
   "outputs": [
    {
     "name": "stdout",
     "output_type": "stream",
     "text": [
      "AFPDB - Test data shape:  (1200, 900, 1)\n"
     ]
    }
   ],
   "source": [
    "afpdb_test_data = np.array([])\n",
    "for csv in test_csvs:\n",
    "    data = pd.read_csv(csv, header=None)\n",
    "    for c in range(data.shape[1]):\n",
    "        row = np.array([np.array([data.iloc[:, c]])])\n",
    "        if afpdb_test_data.shape[0] == 0:\n",
    "            afpdb_test_data = row\n",
    "        else:\n",
    "            afpdb_test_data = np.vstack((afpdb_test_data, row))\n",
    "afpdb_test_data = np.moveaxis(afpdb_test_data, 1, 2)\n",
    "print(\"AFPDB - Test data shape: \", afpdb_test_data.shape)"
   ]
  },
  {
   "cell_type": "markdown",
   "metadata": {},
   "source": [
    "LOAD DATA FROM AFDB"
   ]
  },
  {
   "cell_type": "code",
   "execution_count": 7,
   "metadata": {},
   "outputs": [
    {
     "name": "stdout",
     "output_type": "stream",
     "text": [
      "AFDB data shape:  (3419, 900, 1)\n"
     ]
    }
   ],
   "source": [
    "afdb_csvs =  [str(p) for p in pathlib.Path('preproc_data/afdb').glob(\"*.csv\")]\n",
    "afdb_data = np.array([])\n",
    "for csv in afdb_csvs:\n",
    "    data = pd.read_csv(csv, header=None)\n",
    "    for c in range(data.shape[1]):\n",
    "        row = np.array([np.array([data.iloc[:, c]])])\n",
    "        if afdb_data.shape[0] == 0:\n",
    "            afdb_data = row\n",
    "        else:\n",
    "            afdb_data = np.vstack((afdb_data, row))\n",
    "afdb_data = np.moveaxis(afdb_data, 1, 2)\n",
    "print(\"AFDB data shape: \", afdb_data.shape)"
   ]
  },
  {
   "cell_type": "code",
   "execution_count": 8,
   "metadata": {},
   "outputs": [
    {
     "name": "stdout",
     "output_type": "stream",
     "text": [
      "AFDB - Train data shape:  (2736, 900, 1)\n",
      "AFDB - Test data shape:   (683, 900, 1)\n"
     ]
    }
   ],
   "source": [
    "import math\n",
    "TEST_PROP = 0.8\n",
    "index_split = math.ceil(afdb_data.shape[0] * TEST_PROP)\n",
    "afdb_train = afdb_data[:index_split,:,:]\n",
    "afdb_test = afdb_data[index_split:,:,:]\n",
    "print(\"AFDB - Train data shape: \", afdb_train.shape)\n",
    "print(\"AFDB - Test data shape:  \", afdb_test.shape)"
   ]
  },
  {
   "cell_type": "code",
   "execution_count": 9,
   "metadata": {},
   "outputs": [
    {
     "name": "stdout",
     "output_type": "stream",
     "text": [
      "Total - Train labels size:  7536\n",
      "Total - Test labels size:   1883\n"
     ]
    }
   ],
   "source": [
    "afdb_train_labels = np.array([1]*afdb_train.shape[0])\n",
    "afdb_test_labels = np.array([1]*afdb_test.shape[0])\n",
    "train_labels = np.concatenate((afpdb_train_labels, afdb_train_labels))\n",
    "test_labels = np.concatenate((afpdb_test_labels, afdb_test_labels))\n",
    "print(\"Total - Train labels size: \", train_labels.size)\n",
    "print(\"Total - Test labels size:  \", test_labels.size)"
   ]
  },
  {
   "cell_type": "code",
   "execution_count": 10,
   "metadata": {},
   "outputs": [
    {
     "name": "stdout",
     "output_type": "stream",
     "text": [
      "Total - Train data shape:  (7536, 900, 1)\n",
      "Total - Test data shape:  (1883, 900, 1)\n"
     ]
    }
   ],
   "source": [
    "train_data = np.concatenate((afpdb_train_data, afdb_train))\n",
    "test_data = np.concatenate((afpdb_test_data, afdb_test))\n",
    "print(\"Total - Train data shape: \", train_data.shape)\n",
    "print(\"Total - Test data shape: \", test_data.shape)"
   ]
  },
  {
   "cell_type": "markdown",
   "metadata": {},
   "source": [
    "LOAD DATA FROM NSRDB"
   ]
  },
  {
   "cell_type": "code",
   "execution_count": 11,
   "metadata": {},
   "outputs": [
    {
     "name": "stdout",
     "output_type": "stream",
     "text": [
      "NSRDB data shape:  (3420, 900, 1)\n"
     ]
    }
   ],
   "source": [
    "nsrdb_csvs =  [str(p) for p in pathlib.Path('preproc_data/nsrdb').glob(\"*.csv\")]\n",
    "nsrdb_data = np.array([])\n",
    "for csv in nsrdb_csvs:\n",
    "    data = pd.read_csv(csv, header=None)\n",
    "    for c in range(data.shape[1]):\n",
    "        row = np.array([np.array([data.iloc[:, c]])])\n",
    "        if nsrdb_data.shape[0] == 0:\n",
    "            nsrdb_data = row\n",
    "        else:\n",
    "            nsrdb_data = np.vstack((nsrdb_data, row))\n",
    "nsrdb_data = np.moveaxis(nsrdb_data, 1, 2)\n",
    "print(\"NSRDB data shape: \", nsrdb_data.shape)"
   ]
  },
  {
   "cell_type": "code",
   "execution_count": 12,
   "metadata": {},
   "outputs": [
    {
     "name": "stdout",
     "output_type": "stream",
     "text": [
      "NSRDB - Train data shape:  (2736, 900, 1)\n",
      "NSRDB - Test data shape:   (684, 900, 1)\n"
     ]
    }
   ],
   "source": [
    "index_split = math.ceil(nsrdb_data.shape[0] * TEST_PROP)\n",
    "nsrdb_train = nsrdb_data[:index_split,:,:]\n",
    "nsrdb_test = nsrdb_data[index_split:,:,:]\n",
    "print(\"NSRDB - Train data shape: \", nsrdb_train.shape)\n",
    "print(\"NSRDB - Test data shape:  \", nsrdb_test.shape)"
   ]
  },
  {
   "cell_type": "code",
   "execution_count": 13,
   "metadata": {},
   "outputs": [
    {
     "name": "stdout",
     "output_type": "stream",
     "text": [
      "Total - Train labels size:  10272\n",
      "Total - Test labels size:   2567\n"
     ]
    }
   ],
   "source": [
    "nsrdb_train_labels = np.array([0]*nsrdb_train.shape[0])\n",
    "nsrdb_test_labels = np.array([0]*nsrdb_test.shape[0])\n",
    "train_labels2 = np.concatenate((train_labels, nsrdb_train_labels))\n",
    "test_labels2 = np.concatenate((test_labels, nsrdb_test_labels))\n",
    "print(\"Total - Train labels size: \", train_labels2.size)\n",
    "print(\"Total - Test labels size:  \", test_labels2.size)"
   ]
  },
  {
   "cell_type": "code",
   "execution_count": 14,
   "metadata": {},
   "outputs": [
    {
     "name": "stdout",
     "output_type": "stream",
     "text": [
      "Total - Train data shape:  (10272, 900, 1)\n",
      "Total - Test data shape:   (2567, 900, 1)\n"
     ]
    }
   ],
   "source": [
    "train_data2 = np.concatenate((train_data, nsrdb_train))\n",
    "test_data2 = np.concatenate((test_data, nsrdb_test))\n",
    "print(\"Total - Train data shape: \", train_data2.shape)\n",
    "print(\"Total - Test data shape:  \", test_data2.shape)"
   ]
  },
  {
   "cell_type": "markdown",
   "metadata": {},
   "source": [
    "BUILD DATASET OBJECTS"
   ]
  },
  {
   "cell_type": "code",
   "execution_count": 61,
   "metadata": {},
   "outputs": [
    {
     "name": "stdout",
     "output_type": "stream",
     "text": [
      "Data batch size:  (2, 900, 1)\n",
      "Labels batch size:  (2,)\n"
     ]
    }
   ],
   "source": [
    "train = tf.data.Dataset.from_tensor_slices((train_data2, train_labels2))\n",
    "test = tf.data.Dataset.from_tensor_slices((test_data2, test_labels2))\n",
    "\n",
    "train = train.shuffle(len(train)).batch(2)\n",
    "test = test.batch(16)\n",
    "\n",
    "for d, l in train.take(1):\n",
    "    print (\"Data batch size:   \", d.shape)\n",
    "    print (\"Labels batch size: \", l.shape)"
   ]
  },
  {
   "cell_type": "code",
   "execution_count": 13,
   "metadata": {},
   "outputs": [
    {
     "name": "stdout",
     "output_type": "stream",
     "text": [
      "Model: \"sequential_5\"\n",
      "_________________________________________________________________\n",
      "Layer (type)                 Output Shape              Param #   \n",
      "=================================================================\n",
      "batch_normalization_5 (Batch (None, 900, 1)            4         \n",
      "_________________________________________________________________\n",
      "conv1d_17 (Conv1D)           (None, 893, 16)           144       \n",
      "_________________________________________________________________\n",
      "max_pooling1d_12 (MaxPooling (None, 446, 16)           0         \n",
      "_________________________________________________________________\n",
      "dropout_12 (Dropout)         (None, 446, 16)           0         \n",
      "_________________________________________________________________\n",
      "conv1d_18 (Conv1D)           (None, 443, 32)           2080      \n",
      "_________________________________________________________________\n",
      "conv1d_19 (Conv1D)           (None, 440, 32)           4128      \n",
      "_________________________________________________________________\n",
      "max_pooling1d_13 (MaxPooling (None, 220, 32)           0         \n",
      "_________________________________________________________________\n",
      "dropout_13 (Dropout)         (None, 220, 32)           0         \n",
      "_________________________________________________________________\n",
      "dense_9 (Dense)              (None, 220, 16)           528       \n",
      "_________________________________________________________________\n",
      "max_pooling1d_14 (MaxPooling (None, 110, 16)           0         \n",
      "_________________________________________________________________\n",
      "dropout_14 (Dropout)         (None, 110, 16)           0         \n",
      "_________________________________________________________________\n",
      "conv1d_20 (Conv1D)           (None, 109, 32)           1056      \n",
      "_________________________________________________________________\n",
      "conv1d_21 (Conv1D)           (None, 108, 32)           2080      \n",
      "_________________________________________________________________\n",
      "max_pooling1d_15 (MaxPooling (None, 54, 32)            0         \n",
      "_________________________________________________________________\n",
      "dropout_15 (Dropout)         (None, 54, 32)            0         \n",
      "_________________________________________________________________\n",
      "dense_10 (Dense)             (None, 54, 8)             264       \n",
      "_________________________________________________________________\n",
      "flatten_3 (Flatten)          (None, 432)               0         \n",
      "_________________________________________________________________\n",
      "dense_11 (Dense)             (None, 2)                 866       \n",
      "=================================================================\n",
      "Total params: 11,150\n",
      "Trainable params: 11,148\n",
      "Non-trainable params: 2\n",
      "_________________________________________________________________\n"
     ]
    }
   ],
   "source": [
    "model = models.Sequential()\n",
    "model.add(layers.BatchNormalization(input_shape=(900,1)))\n",
    "model.add(layers.Conv1D(16,8))\n",
    "\n",
    "model.add(layers.MaxPool1D(strides=2))\n",
    "model.add(layers.Dropout(0.25))\n",
    "model.add(layers.Conv1D(32,4))\n",
    "model.add(layers.Conv1D(32,4))\n",
    "model.add(layers.MaxPool1D(strides=2))\n",
    "model.add(layers.Dropout(0.25))\n",
    "model.add(layers.Dense(16, activation='relu'))\n",
    "\n",
    "model.add(layers.MaxPool1D(strides=2))\n",
    "model.add(layers.Dropout(0.25))\n",
    "model.add(layers.Conv1D(32,2))\n",
    "model.add(layers.Conv1D(32,2))\n",
    "model.add(layers.MaxPool1D(strides=2))\n",
    "model.add(layers.Dropout(0.25))\n",
    "model.add(layers.Dense(8, activation='relu'))\n",
    "\n",
    "model.add(layers.Flatten())\n",
    "model.add(layers.Dense(2))\n",
    "\n",
    "model.summary()"
   ]
  },
  {
   "cell_type": "code",
   "execution_count": 63,
   "metadata": {},
   "outputs": [
    {
     "name": "stdout",
     "output_type": "stream",
     "text": [
      "Epoch 1/200\n",
      "5136/5136 [==============================] - 44s 9ms/step - loss: 0.6446 - accuracy: 0.6199 - val_loss: 0.6301 - val_accuracy: 0.6436\n",
      "Epoch 2/200\n",
      "5136/5136 [==============================] - 44s 9ms/step - loss: 0.5437 - accuracy: 0.7309 - val_loss: 0.7107 - val_accuracy: 0.5621\n",
      "Epoch 3/200\n",
      "5136/5136 [==============================] - 44s 9ms/step - loss: 0.4965 - accuracy: 0.7598 - val_loss: 0.8937 - val_accuracy: 0.5972\n",
      "Epoch 4/200\n",
      "5136/5136 [==============================] - 46s 9ms/step - loss: 0.4700 - accuracy: 0.7771 - val_loss: 0.6668 - val_accuracy: 0.6272\n",
      "Epoch 5/200\n",
      "5136/5136 [==============================] - 46s 9ms/step - loss: 0.4418 - accuracy: 0.7992 - val_loss: 0.6362 - val_accuracy: 0.6712\n",
      "Epoch 6/200\n",
      "5136/5136 [==============================] - 44s 9ms/step - loss: 0.4211 - accuracy: 0.8078 - val_loss: 0.6632 - val_accuracy: 0.6977\n",
      "Epoch 7/200\n",
      "5136/5136 [==============================] - 45s 9ms/step - loss: 0.4146 - accuracy: 0.8143 - val_loss: 0.9026 - val_accuracy: 0.4632\n",
      "Epoch 8/200\n",
      "5136/5136 [==============================] - 45s 9ms/step - loss: 0.3937 - accuracy: 0.8252 - val_loss: 0.7519 - val_accuracy: 0.6194\n",
      "Epoch 9/200\n",
      "5136/5136 [==============================] - 46s 9ms/step - loss: 0.3864 - accuracy: 0.8328 - val_loss: 0.7482 - val_accuracy: 0.6369\n",
      "Epoch 10/200\n",
      "5136/5136 [==============================] - 47s 9ms/step - loss: 0.3754 - accuracy: 0.8398 - val_loss: 0.7212 - val_accuracy: 0.6619\n",
      "Epoch 11/200\n",
      "5136/5136 [==============================] - 46s 9ms/step - loss: 0.3646 - accuracy: 0.8436 - val_loss: 0.7904 - val_accuracy: 0.6101\n",
      "Epoch 12/200\n",
      "5136/5136 [==============================] - 48s 9ms/step - loss: 0.3586 - accuracy: 0.8467 - val_loss: 0.9188 - val_accuracy: 0.5668\n",
      "Epoch 13/200\n",
      "5136/5136 [==============================] - 50s 10ms/step - loss: 0.3531 - accuracy: 0.8520 - val_loss: 0.7382 - val_accuracy: 0.6428\n",
      "Epoch 14/200\n",
      "5136/5136 [==============================] - 47s 9ms/step - loss: 0.3402 - accuracy: 0.8594 - val_loss: 0.7908 - val_accuracy: 0.6295\n",
      "Epoch 15/200\n",
      "5136/5136 [==============================] - 47s 9ms/step - loss: 0.3435 - accuracy: 0.8556 - val_loss: 0.7872 - val_accuracy: 0.6899\n",
      "Epoch 16/200\n",
      "5136/5136 [==============================] - 46s 9ms/step - loss: 0.3330 - accuracy: 0.8597 - val_loss: 0.7935 - val_accuracy: 0.6654\n",
      "Epoch 17/200\n",
      "5136/5136 [==============================] - 45s 9ms/step - loss: 0.3232 - accuracy: 0.8639 - val_loss: 0.8607 - val_accuracy: 0.6139\n",
      "Epoch 18/200\n",
      "5136/5136 [==============================] - 45s 9ms/step - loss: 0.3177 - accuracy: 0.8706 - val_loss: 1.0736 - val_accuracy: 0.6541\n",
      "Epoch 19/200\n",
      "5136/5136 [==============================] - 45s 9ms/step - loss: 0.3133 - accuracy: 0.8705 - val_loss: 1.0501 - val_accuracy: 0.6439\n",
      "Epoch 20/200\n",
      "5136/5136 [==============================] - 45s 9ms/step - loss: 0.3111 - accuracy: 0.8721 - val_loss: 1.0684 - val_accuracy: 0.6899\n",
      "Epoch 21/200\n",
      "5136/5136 [==============================] - 47s 9ms/step - loss: 0.3130 - accuracy: 0.8709 - val_loss: 0.9149 - val_accuracy: 0.5980\n",
      "Epoch 22/200\n",
      "5136/5136 [==============================] - 42s 8ms/step - loss: 0.3076 - accuracy: 0.8715 - val_loss: 0.8829 - val_accuracy: 0.5914\n",
      "Epoch 23/200\n",
      "5136/5136 [==============================] - 41s 8ms/step - loss: 0.3045 - accuracy: 0.8757 - val_loss: 0.8034 - val_accuracy: 0.6556\n",
      "Epoch 24/200\n",
      "5136/5136 [==============================] - 41s 8ms/step - loss: 0.3009 - accuracy: 0.8744 - val_loss: 0.8230 - val_accuracy: 0.6354\n",
      "Epoch 25/200\n",
      "5136/5136 [==============================] - 42s 8ms/step - loss: 0.2914 - accuracy: 0.8791 - val_loss: 0.7652 - val_accuracy: 0.6350\n",
      "Epoch 26/200\n",
      "5136/5136 [==============================] - 42s 8ms/step - loss: 0.3034 - accuracy: 0.8732 - val_loss: 0.9540 - val_accuracy: 0.6350\n",
      "Epoch 27/200\n",
      "5136/5136 [==============================] - 44s 9ms/step - loss: 0.2936 - accuracy: 0.8808 - val_loss: 0.9313 - val_accuracy: 0.5890\n",
      "Epoch 28/200\n",
      "5136/5136 [==============================] - 44s 9ms/step - loss: 0.2895 - accuracy: 0.8821 - val_loss: 0.9490 - val_accuracy: 0.6139\n",
      "Epoch 29/200\n",
      "5136/5136 [==============================] - 46s 9ms/step - loss: 0.2920 - accuracy: 0.8828 - val_loss: 0.8338 - val_accuracy: 0.6716\n",
      "Epoch 30/200\n",
      "5136/5136 [==============================] - 44s 9ms/step - loss: 0.2884 - accuracy: 0.8818 - val_loss: 0.9224 - val_accuracy: 0.6817\n",
      "Epoch 31/200\n",
      "5136/5136 [==============================] - 46s 9ms/step - loss: 0.2874 - accuracy: 0.8858 - val_loss: 0.8968 - val_accuracy: 0.6116\n",
      "Epoch 32/200\n",
      "5136/5136 [==============================] - 45s 9ms/step - loss: 0.2872 - accuracy: 0.8853 - val_loss: 0.8857 - val_accuracy: 0.6599\n",
      "Epoch 33/200\n",
      "5136/5136 [==============================] - 45s 9ms/step - loss: 0.2860 - accuracy: 0.8850 - val_loss: 1.0299 - val_accuracy: 0.5917\n",
      "Epoch 34/200\n",
      "5136/5136 [==============================] - 43s 8ms/step - loss: 0.2767 - accuracy: 0.8855 - val_loss: 0.9595 - val_accuracy: 0.6362\n",
      "Epoch 35/200\n",
      "5136/5136 [==============================] - 43s 8ms/step - loss: 0.2844 - accuracy: 0.8813 - val_loss: 1.0452 - val_accuracy: 0.5840\n",
      "Epoch 36/200\n",
      "5136/5136 [==============================] - 45s 9ms/step - loss: 0.2746 - accuracy: 0.8889 - val_loss: 1.0599 - val_accuracy: 0.6455\n",
      "Epoch 37/200\n",
      "5136/5136 [==============================] - 44s 9ms/step - loss: 0.2753 - accuracy: 0.8897 - val_loss: 0.8875 - val_accuracy: 0.6260\n",
      "Epoch 38/200\n",
      "5136/5136 [==============================] - 45s 9ms/step - loss: 0.2760 - accuracy: 0.8873 - val_loss: 1.1028 - val_accuracy: 0.5937\n",
      "Epoch 39/200\n",
      "5136/5136 [==============================] - 44s 9ms/step - loss: 0.2707 - accuracy: 0.8876 - val_loss: 0.9670 - val_accuracy: 0.5914\n",
      "Epoch 40/200\n",
      "5136/5136 [==============================] - 45s 9ms/step - loss: 0.2712 - accuracy: 0.8899 - val_loss: 0.8467 - val_accuracy: 0.6529\n",
      "Epoch 41/200\n",
      "5136/5136 [==============================] - 45s 9ms/step - loss: 0.2772 - accuracy: 0.8876 - val_loss: 1.0631 - val_accuracy: 0.6237\n",
      "Epoch 42/200\n",
      "5136/5136 [==============================] - 44s 9ms/step - loss: 0.2637 - accuracy: 0.8946 - val_loss: 0.8487 - val_accuracy: 0.6463\n",
      "Epoch 43/200\n",
      "5136/5136 [==============================] - 44s 9ms/step - loss: 0.2698 - accuracy: 0.8902 - val_loss: 0.9921 - val_accuracy: 0.6058\n",
      "Epoch 44/200\n",
      "5136/5136 [==============================] - 45s 9ms/step - loss: 0.2595 - accuracy: 0.8940 - val_loss: 1.1766 - val_accuracy: 0.5925\n",
      "Epoch 45/200\n",
      "5136/5136 [==============================] - 44s 9ms/step - loss: 0.2674 - accuracy: 0.8932 - val_loss: 1.1584 - val_accuracy: 0.6389\n",
      "Epoch 46/200\n",
      "5136/5136 [==============================] - 44s 9ms/step - loss: 0.2590 - accuracy: 0.8954 - val_loss: 0.9817 - val_accuracy: 0.6128\n",
      "Epoch 47/200\n",
      "5136/5136 [==============================] - 44s 8ms/step - loss: 0.2610 - accuracy: 0.8944 - val_loss: 0.9252 - val_accuracy: 0.6884\n",
      "Epoch 48/200\n",
      "5136/5136 [==============================] - 44s 9ms/step - loss: 0.2643 - accuracy: 0.8927 - val_loss: 1.0580 - val_accuracy: 0.6276\n",
      "Epoch 49/200\n",
      "5136/5136 [==============================] - 44s 8ms/step - loss: 0.2619 - accuracy: 0.8922 - val_loss: 1.0327 - val_accuracy: 0.6264\n",
      "Epoch 50/200\n",
      "5136/5136 [==============================] - 44s 9ms/step - loss: 0.2556 - accuracy: 0.8972 - val_loss: 1.0359 - val_accuracy: 0.5777\n",
      "Epoch 51/200\n",
      "5136/5136 [==============================] - 46s 9ms/step - loss: 0.2555 - accuracy: 0.8982 - val_loss: 1.0597 - val_accuracy: 0.6467\n",
      "Epoch 52/200\n",
      "5136/5136 [==============================] - 46s 9ms/step - loss: 0.2575 - accuracy: 0.8960 - val_loss: 1.0255 - val_accuracy: 0.6190\n",
      "Epoch 53/200\n",
      "5136/5136 [==============================] - 47s 9ms/step - loss: 0.2456 - accuracy: 0.8969 - val_loss: 1.1617 - val_accuracy: 0.5773\n",
      "Epoch 54/200\n",
      "5136/5136 [==============================] - 49s 10ms/step - loss: 0.2540 - accuracy: 0.9017 - val_loss: 0.8976 - val_accuracy: 0.5968\n",
      "Epoch 55/200\n",
      "5136/5136 [==============================] - 46s 9ms/step - loss: 0.2494 - accuracy: 0.9014 - val_loss: 1.2399 - val_accuracy: 0.6420\n",
      "Epoch 56/200\n",
      "5136/5136 [==============================] - 41s 8ms/step - loss: 0.2498 - accuracy: 0.8983 - val_loss: 1.2023 - val_accuracy: 0.6194\n",
      "Epoch 57/200\n",
      "5136/5136 [==============================] - 42s 8ms/step - loss: 0.2514 - accuracy: 0.8992 - val_loss: 0.9825 - val_accuracy: 0.6397\n",
      "Epoch 58/200\n",
      "5136/5136 [==============================] - 41s 8ms/step - loss: 0.2437 - accuracy: 0.9055 - val_loss: 1.1441 - val_accuracy: 0.6595\n",
      "Epoch 59/200\n",
      "5136/5136 [==============================] - 41s 8ms/step - loss: 0.2611 - accuracy: 0.8988 - val_loss: 1.2374 - val_accuracy: 0.5668\n",
      "Epoch 60/200\n",
      "5136/5136 [==============================] - 41s 8ms/step - loss: 0.2539 - accuracy: 0.8966 - val_loss: 1.2403 - val_accuracy: 0.6358\n",
      "Epoch 61/200\n",
      "5136/5136 [==============================] - 41s 8ms/step - loss: 0.2495 - accuracy: 0.8978 - val_loss: 0.8539 - val_accuracy: 0.6634\n",
      "Epoch 62/200\n",
      "5136/5136 [==============================] - 41s 8ms/step - loss: 0.2477 - accuracy: 0.9001 - val_loss: 0.9909 - val_accuracy: 0.6065\n",
      "Epoch 63/200\n",
      "5136/5136 [==============================] - 41s 8ms/step - loss: 0.2437 - accuracy: 0.9023 - val_loss: 1.3234 - val_accuracy: 0.5855\n",
      "Epoch 64/200\n",
      "5136/5136 [==============================] - 41s 8ms/step - loss: 0.2474 - accuracy: 0.9017 - val_loss: 1.0198 - val_accuracy: 0.6311\n",
      "Epoch 65/200\n",
      "5136/5136 [==============================] - 41s 8ms/step - loss: 0.2400 - accuracy: 0.9065 - val_loss: 1.0194 - val_accuracy: 0.5863\n",
      "Epoch 66/200\n",
      "5136/5136 [==============================] - 41s 8ms/step - loss: 0.2384 - accuracy: 0.9015 - val_loss: 0.9871 - val_accuracy: 0.6685\n",
      "Epoch 67/200\n",
      "5136/5136 [==============================] - 41s 8ms/step - loss: 0.2435 - accuracy: 0.9000 - val_loss: 0.8340 - val_accuracy: 0.6693\n",
      "Epoch 68/200\n",
      "5136/5136 [==============================] - 41s 8ms/step - loss: 0.2395 - accuracy: 0.9031 - val_loss: 1.0176 - val_accuracy: 0.6876\n",
      "Epoch 69/200\n",
      "5136/5136 [==============================] - 41s 8ms/step - loss: 0.2358 - accuracy: 0.9046 - val_loss: 1.0316 - val_accuracy: 0.5641\n",
      "Epoch 70/200\n",
      "5136/5136 [==============================] - 41s 8ms/step - loss: 0.2336 - accuracy: 0.9057 - val_loss: 1.3056 - val_accuracy: 0.5882\n",
      "Epoch 71/200\n",
      "5136/5136 [==============================] - 41s 8ms/step - loss: 0.2320 - accuracy: 0.9066 - val_loss: 0.9389 - val_accuracy: 0.6101\n",
      "Epoch 72/200\n",
      "5136/5136 [==============================] - 41s 8ms/step - loss: 0.2394 - accuracy: 0.9046 - val_loss: 1.1100 - val_accuracy: 0.5917\n",
      "Epoch 73/200\n",
      "5136/5136 [==============================] - 41s 8ms/step - loss: 0.2543 - accuracy: 0.9034 - val_loss: 1.2746 - val_accuracy: 0.5617\n",
      "Epoch 74/200\n",
      "5136/5136 [==============================] - 41s 8ms/step - loss: 0.2369 - accuracy: 0.9044 - val_loss: 1.2868 - val_accuracy: 0.5804\n",
      "Epoch 75/200\n",
      "5136/5136 [==============================] - 41s 8ms/step - loss: 0.2317 - accuracy: 0.9063 - val_loss: 1.3090 - val_accuracy: 0.5820\n",
      "Epoch 76/200\n",
      "5136/5136 [==============================] - 41s 8ms/step - loss: 0.2315 - accuracy: 0.9086 - val_loss: 1.1267 - val_accuracy: 0.5843\n",
      "Epoch 77/200\n",
      "5136/5136 [==============================] - 41s 8ms/step - loss: 0.2299 - accuracy: 0.9078 - val_loss: 1.2256 - val_accuracy: 0.6065\n",
      "Epoch 78/200\n",
      "5136/5136 [==============================] - 41s 8ms/step - loss: 0.2347 - accuracy: 0.9071 - val_loss: 1.2930 - val_accuracy: 0.5886\n",
      "Epoch 79/200\n",
      "5136/5136 [==============================] - 42s 8ms/step - loss: 0.2307 - accuracy: 0.9082 - val_loss: 1.0429 - val_accuracy: 0.6338\n",
      "Epoch 80/200\n",
      "5136/5136 [==============================] - 41s 8ms/step - loss: 0.2362 - accuracy: 0.9062 - val_loss: 1.0106 - val_accuracy: 0.6295\n",
      "Epoch 81/200\n",
      "5136/5136 [==============================] - 41s 8ms/step - loss: 0.2300 - accuracy: 0.9070 - val_loss: 1.0532 - val_accuracy: 0.5781\n",
      "Epoch 82/200\n",
      "5136/5136 [==============================] - 41s 8ms/step - loss: 0.2363 - accuracy: 0.9050 - val_loss: 1.3781 - val_accuracy: 0.6065\n",
      "Epoch 83/200\n",
      "5136/5136 [==============================] - 41s 8ms/step - loss: 0.2294 - accuracy: 0.9057 - val_loss: 1.1384 - val_accuracy: 0.6167\n",
      "Epoch 84/200\n",
      "5136/5136 [==============================] - 41s 8ms/step - loss: 0.2297 - accuracy: 0.9110 - val_loss: 1.1110 - val_accuracy: 0.5898\n",
      "Epoch 85/200\n",
      "5136/5136 [==============================] - 41s 8ms/step - loss: 0.2192 - accuracy: 0.9124 - val_loss: 1.2339 - val_accuracy: 0.6323\n",
      "Epoch 86/200\n",
      "5136/5136 [==============================] - 41s 8ms/step - loss: 0.2227 - accuracy: 0.9116 - val_loss: 1.1273 - val_accuracy: 0.6249\n",
      "Epoch 87/200\n",
      "5136/5136 [==============================] - 41s 8ms/step - loss: 0.2195 - accuracy: 0.9112 - val_loss: 0.9003 - val_accuracy: 0.6638\n",
      "Epoch 88/200\n",
      "5136/5136 [==============================] - 41s 8ms/step - loss: 0.2351 - accuracy: 0.9077 - val_loss: 1.3203 - val_accuracy: 0.5921\n",
      "Epoch 89/200\n",
      "5136/5136 [==============================] - 41s 8ms/step - loss: 0.2228 - accuracy: 0.9110 - val_loss: 1.2042 - val_accuracy: 0.6139\n",
      "Epoch 90/200\n",
      "5136/5136 [==============================] - 41s 8ms/step - loss: 0.2270 - accuracy: 0.9111 - val_loss: 0.9753 - val_accuracy: 0.6326\n",
      "Epoch 91/200\n",
      "5136/5136 [==============================] - 41s 8ms/step - loss: 0.2210 - accuracy: 0.9109 - val_loss: 0.9499 - val_accuracy: 0.6132\n",
      "Epoch 92/200\n",
      "5136/5136 [==============================] - 41s 8ms/step - loss: 0.2239 - accuracy: 0.9112 - val_loss: 1.0928 - val_accuracy: 0.6077\n",
      "Epoch 93/200\n",
      "5136/5136 [==============================] - 41s 8ms/step - loss: 0.2225 - accuracy: 0.9094 - val_loss: 1.0173 - val_accuracy: 0.6190\n",
      "Epoch 94/200\n",
      "5136/5136 [==============================] - 41s 8ms/step - loss: 0.2163 - accuracy: 0.9171 - val_loss: 1.3338 - val_accuracy: 0.5991\n",
      "Epoch 95/200\n",
      "5136/5136 [==============================] - 41s 8ms/step - loss: 0.2190 - accuracy: 0.9143 - val_loss: 1.1937 - val_accuracy: 0.6665\n",
      "Epoch 96/200\n",
      "5136/5136 [==============================] - 41s 8ms/step - loss: 0.2226 - accuracy: 0.9123 - val_loss: 1.0508 - val_accuracy: 0.6276\n",
      "Epoch 97/200\n",
      "5136/5136 [==============================] - 41s 8ms/step - loss: 0.2212 - accuracy: 0.9142 - val_loss: 1.2266 - val_accuracy: 0.5337\n",
      "Epoch 98/200\n",
      "5136/5136 [==============================] - 43s 8ms/step - loss: 0.2199 - accuracy: 0.9100 - val_loss: 0.9656 - val_accuracy: 0.6256\n",
      "Epoch 99/200\n",
      "5136/5136 [==============================] - 42s 8ms/step - loss: 0.2202 - accuracy: 0.9111 - val_loss: 1.0571 - val_accuracy: 0.6611\n",
      "Epoch 100/200\n",
      "5136/5136 [==============================] - 8925s 2s/step - loss: 0.2127 - accuracy: 0.9184 - val_loss: 1.0451 - val_accuracy: 0.6545\n",
      "Epoch 101/200\n",
      "5136/5136 [==============================] - 55s 11ms/step - loss: 0.2182 - accuracy: 0.9130 - val_loss: 1.2587 - val_accuracy: 0.5984\n",
      "Epoch 102/200\n",
      "5136/5136 [==============================] - 56s 11ms/step - loss: 0.2169 - accuracy: 0.9143 - val_loss: 1.0600 - val_accuracy: 0.6058\n",
      "Epoch 103/200\n",
      "5136/5136 [==============================] - 54s 11ms/step - loss: 0.2176 - accuracy: 0.9131 - val_loss: 1.3732 - val_accuracy: 0.6065\n",
      "Epoch 104/200\n",
      "5136/5136 [==============================] - 53s 10ms/step - loss: 0.2151 - accuracy: 0.9135 - val_loss: 1.3548 - val_accuracy: 0.6272\n",
      "Epoch 105/200\n",
      "5136/5136 [==============================] - 53s 10ms/step - loss: 0.2172 - accuracy: 0.9133 - val_loss: 1.2046 - val_accuracy: 0.6011\n",
      "Epoch 106/200\n",
      "5136/5136 [==============================] - 60s 12ms/step - loss: 0.2169 - accuracy: 0.9142 - val_loss: 1.1059 - val_accuracy: 0.6217\n",
      "Epoch 107/200\n",
      "5136/5136 [==============================] - 60s 12ms/step - loss: 0.2163 - accuracy: 0.9152 - val_loss: 1.0532 - val_accuracy: 0.5571\n",
      "Epoch 108/200\n",
      "5136/5136 [==============================] - 60s 12ms/step - loss: 0.2146 - accuracy: 0.9157 - val_loss: 1.3028 - val_accuracy: 0.6428\n",
      "Epoch 109/200\n",
      "5136/5136 [==============================] - 61s 12ms/step - loss: 0.2137 - accuracy: 0.9192 - val_loss: 1.1676 - val_accuracy: 0.6139\n",
      "Epoch 110/200\n",
      "5136/5136 [==============================] - 60s 12ms/step - loss: 0.2132 - accuracy: 0.9145 - val_loss: 1.2431 - val_accuracy: 0.6116\n",
      "Epoch 111/200\n",
      "5136/5136 [==============================] - 60s 12ms/step - loss: 0.2173 - accuracy: 0.9144 - val_loss: 1.0421 - val_accuracy: 0.6545\n",
      "Epoch 112/200\n",
      "5136/5136 [==============================] - 64s 12ms/step - loss: 0.2146 - accuracy: 0.9164 - val_loss: 1.2323 - val_accuracy: 0.5773\n",
      "Epoch 113/200\n",
      "5136/5136 [==============================] - 58s 11ms/step - loss: 0.2151 - accuracy: 0.9154 - val_loss: 1.0661 - val_accuracy: 0.6268\n",
      "Epoch 114/200\n",
      "5136/5136 [==============================] - 58s 11ms/step - loss: 0.2097 - accuracy: 0.9191 - val_loss: 1.3377 - val_accuracy: 0.6295\n",
      "Epoch 115/200\n",
      "5136/5136 [==============================] - 61s 12ms/step - loss: 0.2146 - accuracy: 0.9150 - val_loss: 1.0285 - val_accuracy: 0.6677\n",
      "Epoch 116/200\n",
      "5136/5136 [==============================] - 58s 11ms/step - loss: 0.2083 - accuracy: 0.9173 - val_loss: 0.8518 - val_accuracy: 0.6101\n",
      "Epoch 117/200\n",
      "5136/5136 [==============================] - 58s 11ms/step - loss: 0.2117 - accuracy: 0.9157 - val_loss: 1.0806 - val_accuracy: 0.6089\n",
      "Epoch 118/200\n",
      "5136/5136 [==============================] - 60s 12ms/step - loss: 0.2140 - accuracy: 0.9192 - val_loss: 1.4896 - val_accuracy: 0.5929\n",
      "Epoch 119/200\n",
      "5136/5136 [==============================] - 60s 12ms/step - loss: 0.2126 - accuracy: 0.9173 - val_loss: 1.3709 - val_accuracy: 0.5980\n",
      "Epoch 120/200\n",
      "5136/5136 [==============================] - 62s 12ms/step - loss: 0.2091 - accuracy: 0.9197 - val_loss: 1.3737 - val_accuracy: 0.6377\n",
      "Epoch 121/200\n",
      "5136/5136 [==============================] - 60s 12ms/step - loss: 0.2066 - accuracy: 0.9190 - val_loss: 1.4294 - val_accuracy: 0.6050\n",
      "Epoch 122/200\n",
      "5136/5136 [==============================] - 61s 12ms/step - loss: 0.2124 - accuracy: 0.9153 - val_loss: 1.0350 - val_accuracy: 0.6007\n",
      "Epoch 123/200\n",
      "5136/5136 [==============================] - 59s 11ms/step - loss: 0.2066 - accuracy: 0.9203 - val_loss: 0.9525 - val_accuracy: 0.6338\n",
      "Epoch 124/200\n",
      "5136/5136 [==============================] - 59s 11ms/step - loss: 0.2094 - accuracy: 0.9184 - val_loss: 1.1565 - val_accuracy: 0.6108\n",
      "Epoch 125/200\n",
      "5136/5136 [==============================] - 58s 11ms/step - loss: 0.2094 - accuracy: 0.9173 - val_loss: 1.1726 - val_accuracy: 0.5906\n",
      "Epoch 126/200\n",
      "5136/5136 [==============================] - 65s 13ms/step - loss: 0.2045 - accuracy: 0.9201 - val_loss: 1.3519 - val_accuracy: 0.6408\n",
      "Epoch 127/200\n",
      "5136/5136 [==============================] - 60s 12ms/step - loss: 0.2102 - accuracy: 0.9181 - val_loss: 1.1261 - val_accuracy: 0.6486\n",
      "Epoch 128/200\n",
      "5136/5136 [==============================] - 59s 11ms/step - loss: 0.2099 - accuracy: 0.9189 - val_loss: 0.8283 - val_accuracy: 0.6552\n",
      "Epoch 129/200\n",
      "5136/5136 [==============================] - 59s 11ms/step - loss: 0.2172 - accuracy: 0.9147 - val_loss: 1.1156 - val_accuracy: 0.6097\n",
      "Epoch 130/200\n",
      "5136/5136 [==============================] - 60s 12ms/step - loss: 0.2104 - accuracy: 0.9171 - val_loss: 1.1674 - val_accuracy: 0.5890\n",
      "Epoch 131/200\n",
      "5136/5136 [==============================] - 60s 12ms/step - loss: 0.2122 - accuracy: 0.9183 - val_loss: 1.2951 - val_accuracy: 0.6603\n",
      "Epoch 132/200\n",
      "5136/5136 [==============================] - 60s 12ms/step - loss: 0.2139 - accuracy: 0.9175 - val_loss: 1.2664 - val_accuracy: 0.6291\n",
      "Epoch 133/200\n",
      "5136/5136 [==============================] - 59s 11ms/step - loss: 0.2113 - accuracy: 0.9113 - val_loss: 1.0763 - val_accuracy: 0.6046\n",
      "Epoch 134/200\n",
      "5136/5136 [==============================] - 59s 12ms/step - loss: 0.2095 - accuracy: 0.9154 - val_loss: 1.3677 - val_accuracy: 0.6163\n",
      "Epoch 135/200\n",
      "5136/5136 [==============================] - 59s 12ms/step - loss: 0.2046 - accuracy: 0.9188 - val_loss: 1.2609 - val_accuracy: 0.6252\n",
      "Epoch 136/200\n",
      "5136/5136 [==============================] - 60s 12ms/step - loss: 0.2069 - accuracy: 0.9179 - val_loss: 1.2433 - val_accuracy: 0.6537\n",
      "Epoch 137/200\n",
      "5136/5136 [==============================] - 60s 12ms/step - loss: 0.2090 - accuracy: 0.9194 - val_loss: 1.1172 - val_accuracy: 0.5890\n",
      "Epoch 138/200\n",
      "5136/5136 [==============================] - 60s 12ms/step - loss: 0.2073 - accuracy: 0.9205 - val_loss: 1.3476 - val_accuracy: 0.6116\n",
      "Epoch 139/200\n",
      "5136/5136 [==============================] - 60s 12ms/step - loss: 0.2100 - accuracy: 0.9159 - val_loss: 1.2930 - val_accuracy: 0.6241\n",
      "Epoch 140/200\n",
      "5136/5136 [==============================] - 60s 12ms/step - loss: 0.2168 - accuracy: 0.9184 - val_loss: 0.9986 - val_accuracy: 0.6256\n",
      "Epoch 141/200\n",
      "5136/5136 [==============================] - 61s 12ms/step - loss: 0.2085 - accuracy: 0.9170 - val_loss: 1.0222 - val_accuracy: 0.6350\n",
      "Epoch 142/200\n",
      "5136/5136 [==============================] - 62s 12ms/step - loss: 0.2142 - accuracy: 0.9131 - val_loss: 1.3017 - val_accuracy: 0.6284\n",
      "Epoch 143/200\n",
      "5136/5136 [==============================] - 61s 12ms/step - loss: 0.2072 - accuracy: 0.9180 - val_loss: 1.0263 - val_accuracy: 0.6436\n",
      "Epoch 144/200\n",
      "5136/5136 [==============================] - 60s 12ms/step - loss: 0.2052 - accuracy: 0.9191 - val_loss: 0.9996 - val_accuracy: 0.6845\n",
      "Epoch 145/200\n",
      "5136/5136 [==============================] - 61s 12ms/step - loss: 0.2098 - accuracy: 0.9169 - val_loss: 0.9583 - val_accuracy: 0.6163\n",
      "Epoch 146/200\n",
      "5136/5136 [==============================] - 62s 12ms/step - loss: 0.1990 - accuracy: 0.9227 - val_loss: 1.3047 - val_accuracy: 0.6810\n",
      "Epoch 147/200\n",
      "5136/5136 [==============================] - 61s 12ms/step - loss: 0.2072 - accuracy: 0.9202 - val_loss: 1.2720 - val_accuracy: 0.6124\n",
      "Epoch 148/200\n",
      "5136/5136 [==============================] - 61s 12ms/step - loss: 0.2094 - accuracy: 0.9177 - val_loss: 0.9996 - val_accuracy: 0.6213\n",
      "Epoch 149/200\n",
      "5136/5136 [==============================] - 61s 12ms/step - loss: 0.2117 - accuracy: 0.9154 - val_loss: 1.1564 - val_accuracy: 0.6311\n",
      "Epoch 150/200\n",
      "5136/5136 [==============================] - 60s 12ms/step - loss: 0.2017 - accuracy: 0.9224 - val_loss: 1.0320 - val_accuracy: 0.6186\n",
      "Epoch 151/200\n",
      "5136/5136 [==============================] - 61s 12ms/step - loss: 0.2090 - accuracy: 0.9210 - val_loss: 1.1155 - val_accuracy: 0.6108\n",
      "Epoch 152/200\n",
      "5136/5136 [==============================] - 61s 12ms/step - loss: 0.2080 - accuracy: 0.9174 - val_loss: 1.2929 - val_accuracy: 0.6404\n",
      "Epoch 153/200\n",
      "5136/5136 [==============================] - 61s 12ms/step - loss: 0.2037 - accuracy: 0.9176 - val_loss: 0.8788 - val_accuracy: 0.6790\n",
      "Epoch 154/200\n",
      "5136/5136 [==============================] - 60s 12ms/step - loss: 0.2073 - accuracy: 0.9159 - val_loss: 1.0132 - val_accuracy: 0.6334\n",
      "Epoch 155/200\n",
      "5136/5136 [==============================] - 61s 12ms/step - loss: 0.2022 - accuracy: 0.9207 - val_loss: 1.1564 - val_accuracy: 0.6139\n",
      "Epoch 156/200\n",
      "5136/5136 [==============================] - 61s 12ms/step - loss: 0.2060 - accuracy: 0.9180 - val_loss: 1.1680 - val_accuracy: 0.5945\n",
      "Epoch 157/200\n",
      "5136/5136 [==============================] - 63s 12ms/step - loss: 0.2076 - accuracy: 0.9191 - val_loss: 1.1281 - val_accuracy: 0.5949\n",
      "Epoch 158/200\n",
      "5136/5136 [==============================] - 62s 12ms/step - loss: 0.2070 - accuracy: 0.9182 - val_loss: 0.9305 - val_accuracy: 0.6619\n",
      "Epoch 159/200\n",
      "5136/5136 [==============================] - 66s 13ms/step - loss: 0.1998 - accuracy: 0.9225 - val_loss: 1.4550 - val_accuracy: 0.5968\n",
      "Epoch 160/200\n",
      "5136/5136 [==============================] - 65s 13ms/step - loss: 0.2001 - accuracy: 0.9212 - val_loss: 1.2353 - val_accuracy: 0.6069\n",
      "Epoch 161/200\n",
      "5136/5136 [==============================] - 65s 13ms/step - loss: 0.2046 - accuracy: 0.9187 - val_loss: 1.2263 - val_accuracy: 0.5902\n",
      "Epoch 162/200\n",
      "5136/5136 [==============================] - 62s 12ms/step - loss: 0.1995 - accuracy: 0.9228 - val_loss: 1.1119 - val_accuracy: 0.6132\n",
      "Epoch 163/200\n",
      "5136/5136 [==============================] - 62s 12ms/step - loss: 0.1953 - accuracy: 0.9242 - val_loss: 1.2230 - val_accuracy: 0.6175\n",
      "Epoch 164/200\n",
      "5136/5136 [==============================] - 61s 12ms/step - loss: 0.2059 - accuracy: 0.9160 - val_loss: 1.0564 - val_accuracy: 0.6163\n",
      "Epoch 165/200\n",
      "5136/5136 [==============================] - 62s 12ms/step - loss: 0.1938 - accuracy: 0.9278 - val_loss: 1.0606 - val_accuracy: 0.6774\n",
      "Epoch 166/200\n",
      "5136/5136 [==============================] - 63s 12ms/step - loss: 0.2033 - accuracy: 0.9189 - val_loss: 1.3759 - val_accuracy: 0.6903\n",
      "Epoch 167/200\n",
      "5136/5136 [==============================] - 62s 12ms/step - loss: 0.2051 - accuracy: 0.9192 - val_loss: 0.9896 - val_accuracy: 0.5972\n",
      "Epoch 168/200\n",
      "5136/5136 [==============================] - 62s 12ms/step - loss: 0.1955 - accuracy: 0.9245 - val_loss: 1.1295 - val_accuracy: 0.6245\n",
      "Epoch 169/200\n",
      "5136/5136 [==============================] - 63s 12ms/step - loss: 0.2008 - accuracy: 0.9257 - val_loss: 1.3057 - val_accuracy: 0.6007\n",
      "Epoch 170/200\n",
      "5136/5136 [==============================] - 64s 12ms/step - loss: 0.1915 - accuracy: 0.9266 - val_loss: 1.0151 - val_accuracy: 0.6023\n",
      "Epoch 171/200\n",
      "5136/5136 [==============================] - 63s 12ms/step - loss: 0.2008 - accuracy: 0.9217 - val_loss: 1.1735 - val_accuracy: 0.5801\n",
      "Epoch 172/200\n",
      "5136/5136 [==============================] - 62s 12ms/step - loss: 0.2022 - accuracy: 0.9214 - val_loss: 0.9974 - val_accuracy: 0.6369\n",
      "Epoch 173/200\n",
      "5136/5136 [==============================] - 62s 12ms/step - loss: 0.2187 - accuracy: 0.9188 - val_loss: 1.4436 - val_accuracy: 0.6233\n",
      "Epoch 174/200\n",
      "5136/5136 [==============================] - 62s 12ms/step - loss: 0.2012 - accuracy: 0.9222 - val_loss: 1.1358 - val_accuracy: 0.6151\n",
      "Epoch 175/200\n",
      "5136/5136 [==============================] - 63s 12ms/step - loss: 0.2035 - accuracy: 0.9183 - val_loss: 1.3162 - val_accuracy: 0.6171\n",
      "Epoch 176/200\n",
      "5136/5136 [==============================] - 62s 12ms/step - loss: 0.2013 - accuracy: 0.9218 - val_loss: 1.4789 - val_accuracy: 0.6065\n",
      "Epoch 177/200\n",
      "5136/5136 [==============================] - 62s 12ms/step - loss: 0.2105 - accuracy: 0.9191 - val_loss: 1.2028 - val_accuracy: 0.5801\n",
      "Epoch 178/200\n",
      "5136/5136 [==============================] - 62s 12ms/step - loss: 0.1987 - accuracy: 0.9211 - val_loss: 1.2656 - val_accuracy: 0.6268\n",
      "Epoch 179/200\n",
      "5136/5136 [==============================] - 62s 12ms/step - loss: 0.1929 - accuracy: 0.9230 - val_loss: 1.3497 - val_accuracy: 0.6081\n",
      "Epoch 180/200\n",
      "5136/5136 [==============================] - 63s 12ms/step - loss: 0.2031 - accuracy: 0.9231 - val_loss: 1.7976 - val_accuracy: 0.5734\n",
      "Epoch 181/200\n",
      "5136/5136 [==============================] - 62s 12ms/step - loss: 0.1968 - accuracy: 0.9206 - val_loss: 1.4815 - val_accuracy: 0.6171\n",
      "Epoch 182/200\n",
      "5136/5136 [==============================] - 62s 12ms/step - loss: 0.1998 - accuracy: 0.9225 - val_loss: 1.1467 - val_accuracy: 0.5668\n",
      "Epoch 183/200\n",
      "5136/5136 [==============================] - 62s 12ms/step - loss: 0.2010 - accuracy: 0.9223 - val_loss: 1.5627 - val_accuracy: 0.6167\n",
      "Epoch 184/200\n",
      "5136/5136 [==============================] - 62s 12ms/step - loss: 0.1957 - accuracy: 0.9237 - val_loss: 1.2810 - val_accuracy: 0.5567\n",
      "Epoch 185/200\n",
      "5136/5136 [==============================] - 61s 12ms/step - loss: 0.2103 - accuracy: 0.9206 - val_loss: 1.5683 - val_accuracy: 0.6393\n",
      "Epoch 186/200\n",
      "5136/5136 [==============================] - 62s 12ms/step - loss: 0.2123 - accuracy: 0.9187 - val_loss: 1.1036 - val_accuracy: 0.6089\n",
      "Epoch 187/200\n",
      "5136/5136 [==============================] - 61s 12ms/step - loss: 0.1953 - accuracy: 0.9254 - val_loss: 1.2651 - val_accuracy: 0.6568\n",
      "Epoch 188/200\n",
      "5136/5136 [==============================] - 63s 12ms/step - loss: 0.1997 - accuracy: 0.9224 - val_loss: 1.6138 - val_accuracy: 0.6478\n",
      "Epoch 189/200\n",
      "5136/5136 [==============================] - 61s 12ms/step - loss: 0.2028 - accuracy: 0.9220 - val_loss: 0.9425 - val_accuracy: 0.6482\n",
      "Epoch 190/200\n",
      "5136/5136 [==============================] - 61s 12ms/step - loss: 0.1944 - accuracy: 0.9223 - val_loss: 1.0296 - val_accuracy: 0.5762\n",
      "Epoch 191/200\n",
      "5136/5136 [==============================] - 61s 12ms/step - loss: 0.1935 - accuracy: 0.9211 - val_loss: 1.0653 - val_accuracy: 0.6471\n",
      "Epoch 192/200\n",
      "5136/5136 [==============================] - 61s 12ms/step - loss: 0.2121 - accuracy: 0.9186 - val_loss: 0.7623 - val_accuracy: 0.6416\n",
      "Epoch 193/200\n",
      "5136/5136 [==============================] - 61s 12ms/step - loss: 0.1891 - accuracy: 0.9266 - val_loss: 1.6622 - val_accuracy: 0.5793\n",
      "Epoch 194/200\n",
      "5136/5136 [==============================] - 62s 12ms/step - loss: 0.1996 - accuracy: 0.9243 - val_loss: 1.0021 - val_accuracy: 0.6584\n",
      "Epoch 195/200\n",
      "5136/5136 [==============================] - 62s 12ms/step - loss: 0.2004 - accuracy: 0.9221 - val_loss: 1.6248 - val_accuracy: 0.6459\n",
      "Epoch 196/200\n",
      "5136/5136 [==============================] - 62s 12ms/step - loss: 0.1960 - accuracy: 0.9239 - val_loss: 1.0911 - val_accuracy: 0.6474\n",
      "Epoch 197/200\n",
      "5136/5136 [==============================] - 62s 12ms/step - loss: 0.1996 - accuracy: 0.9236 - val_loss: 1.6760 - val_accuracy: 0.6213\n",
      "Epoch 198/200\n",
      "5136/5136 [==============================] - 62s 12ms/step - loss: 0.2035 - accuracy: 0.9235 - val_loss: 0.8371 - val_accuracy: 0.6673\n",
      "Epoch 199/200\n",
      "5136/5136 [==============================] - 62s 12ms/step - loss: 0.2020 - accuracy: 0.9202 - val_loss: 1.0945 - val_accuracy: 0.6439\n",
      "Epoch 200/200\n",
      "5136/5136 [==============================] - 59s 11ms/step - loss: 0.1931 - accuracy: 0.9265 - val_loss: 1.3547 - val_accuracy: 0.5867\n"
     ]
    }
   ],
   "source": [
    "model.compile(optimizer='adam',\n",
    "             loss=tf.keras.losses.SparseCategoricalCrossentropy(from_logits=True),\n",
    "             metrics=['accuracy'])\n",
    "\n",
    "history = model.fit(train, epochs=200,\n",
    "                       validation_data=(test))"
   ]
  },
  {
   "cell_type": "code",
   "execution_count": 64,
   "metadata": {},
   "outputs": [
    {
     "data": {
      "text/plain": [
       "<matplotlib.legend.Legend at 0x20038034220>"
      ]
     },
     "execution_count": 64,
     "metadata": {},
     "output_type": "execute_result"
    },
    {
     "data": {
      "image/png": "[encoded data removed]",
      "text/plain": [
       "<Figure size 432x288 with 1 Axes>"
      ]
     },
     "metadata": {
      "needs_background": "light"
     },
     "output_type": "display_data"
    }
   ],
   "source": [
    "plt.plot(history.history['accuracy'], label='accuracy')\n",
    "plt.plot(history.history['val_accuracy'], label = 'val_accuracy')\n",
    "plt.xlabel('Epoch')\n",
    "plt.ylabel('Accuracy')\n",
    "plt.ylim([0, 1])\n",
    "plt.legend(loc='lower right')"
   ]
  },
  {
   "cell_type": "code",
   "execution_count": 65,
   "metadata": {},
   "outputs": [
    {
     "name": "stdout",
     "output_type": "stream",
     "text": [
      "161/161 - 1s - loss: 1.3547 - accuracy: 0.5867\n"
     ]
    }
   ],
   "source": [
    "test_loss, test_acc = model.evaluate(test, verbose=2)"
   ]
  }
 ],
 "metadata": {
  "kernelspec": {
   "display_name": "Python 3",
   "language": "python",
   "name": "python3"
  },
  "language_info": {
   "codemirror_mode": {
    "name": "ipython",
    "version": 3
   },
   "file_extension": ".py",
   "mimetype": "text/x-python",
   "name": "python",
   "nbconvert_exporter": "python",
   "pygments_lexer": "ipython3",
   "version": "3.8.6"
  }
 },
 "nbformat": 4,
 "nbformat_minor": 4
}
