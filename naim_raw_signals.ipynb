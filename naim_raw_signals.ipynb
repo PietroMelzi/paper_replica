{
 "cells": [
  {
   "cell_type": "code",
   "execution_count": null,
   "metadata": {},
   "outputs": [],
   "source": [
    "import pyper as pr\n",
    "import pandas as pd\n",
    "import numpy as np\n",
    "import tensorflow as tf\n",
    "\n",
    "from tensorflow.keras import datasets, layers, models\n",
    "import matplotlib.pyplot as plt\n",
    "from tensorflow.keras.layers.experimental import preprocessing"
   ]
  },
  {
   "cell_type": "code",
   "execution_count": 54,
   "metadata": {},
   "outputs": [],
   "source": [
    "r = pr.R(use_numpy='True', use_pandas='True')\n",
    "r(\"load('data/signal_data_DF_to_python.RData')\")\n",
    "r(\"test_data <- as.data.frame(df_test_II_x)\")\n",
    "r(\"test_data_std <- as.data.frame(df_test_II_x_std)\")\n",
    "r(\"train_data <- as.data.frame(df_train_II_x)\")\n",
    "r(\"train_data_std <- as.data.frame(df_train_II_x_std)\")\n",
    "r(\"test_label <- as.data.frame(df_test_II_y)\")\n",
    "r(\"train_label <- as.data.frame(df_train_II_y)\")\n",
    "\n",
    "test_data = pd.DataFrame(r.get('test_data'))\n",
    "test_data_std = pd.DataFrame(r.get('test_data_std'))\n",
    "train_data = pd.DataFrame(r.get('train_data'))\n",
    "train_data_std = pd.DataFrame(r.get('train_data_std'))\n",
    "test_label = pd.DataFrame(r.get('test_label'))\n",
    "train_label = pd.DataFrame(r.get('train_label'))"
   ]
  },
  {
   "cell_type": "code",
   "execution_count": 94,
   "metadata": {},
   "outputs": [
    {
     "name": "stdout",
     "output_type": "stream",
     "text": [
      "Train data shape:        (2180, 4104)\n",
      "Test data shape:         (932, 4104)\n",
      "Train data (std) shape:  (2180, 4104)\n",
      "Test data (std) shape:   (932, 4104)\n",
      "Train label shape:       (2180, 1)\n",
      "Test label shape:        (932, 1)\n"
     ]
    }
   ],
   "source": [
    "print(\"Train data shape:       \", train_data.shape)\n",
    "print(\"Test data shape:        \", test_data.shape)\n",
    "print(\"Train data (std) shape: \", train_data_std.shape)\n",
    "print(\"Test data (std) shape:  \", test_data_std.shape)\n",
    "print(\"Train label shape:      \", train_label.shape)\n",
    "print(\"Test label shape:       \", test_label.shape)"
   ]
  },
  {
   "cell_type": "code",
   "execution_count": 105,
   "metadata": {},
   "outputs": [
    {
     "name": "stdout",
     "output_type": "stream",
     "text": [
      "Train data shape:   (2180, 900)\n",
      "Test data shape:    (932, 900)\n",
      "Train label shape:  (2180,)\n",
      "Test label shape:   (932,)\n"
     ]
    }
   ],
   "source": [
    "INPUT_DIM = 900\n",
    "STEP = 4\n",
    "cols = list(np.arange(train_data.shape[1]))\n",
    "assert(train_data.shape[1]>=INPUT_DIM*STEP)\n",
    "\n",
    "#new_cols = cols[0:INPUT_DIM*STEP:STEP]\n",
    "new_cols = cols[:INPUT_DIM]\n",
    "\n",
    "fin_train_data = train_data.iloc[:,new_cols]\n",
    "fin_test_data = test_data.iloc[:,new_cols]\n",
    "\n",
    "fin_train_data = np.array(fin_train_data)\n",
    "fin_test_data = np.array(fin_test_data)\n",
    "fin_train_label = train_label[\"df_train_II_y\"].map({b'SR': 0, b'FA': 1})\n",
    "fin_test_label = test_label[\"df_test_II_y\"].map({b'SR': 0, b'FA': 1})\n",
    "\n",
    "print(\"Train data shape:  \", fin_train_data.shape)\n",
    "print(\"Test data shape:   \", fin_test_data.shape)\n",
    "print(\"Train label shape: \", fin_train_label.shape)\n",
    "print(\"Test label shape:  \", fin_test_label.shape)"
   ]
  },
  {
   "cell_type": "code",
   "execution_count": 106,
   "metadata": {},
   "outputs": [
    {
     "name": "stdout",
     "output_type": "stream",
     "text": [
      "Train data shape:   (2180, 900, 1)\n",
      "Test data shape:    (932, 900, 1)\n"
     ]
    }
   ],
   "source": [
    "fin_train_data = np.asarray(fin_train_data).astype('float32')\n",
    "fin_test_data = np.asarray(fin_test_data).astype('float32')\n",
    "\n",
    "fin_train_data2 = np.expand_dims(fin_train_data, axis=2)\n",
    "fin_test_data2 = np.expand_dims(fin_test_data, axis=2)\n",
    "\n",
    "print(\"Train data shape:  \", fin_train_data2.shape)\n",
    "print(\"Test data shape:   \", fin_test_data2.shape)"
   ]
  },
  {
   "cell_type": "code",
   "execution_count": 107,
   "metadata": {},
   "outputs": [
    {
     "name": "stdout",
     "output_type": "stream",
     "text": [
      "Data batch size:    (2, 900, 1)\n",
      "Labels batch size:  (2,)\n"
     ]
    }
   ],
   "source": [
    "train = tf.data.Dataset.from_tensor_slices((fin_train_data2, fin_train_label))\n",
    "test = tf.data.Dataset.from_tensor_slices((fin_test_data2, fin_test_label))\n",
    "\n",
    "train = train.shuffle(len(train)).batch(2)\n",
    "test = test.batch(16)\n",
    "\n",
    "for d, l in train.take(1):\n",
    "    print (\"Data batch size:   \", d.shape)\n",
    "    print (\"Labels batch size: \", l.shape)"
   ]
  },
  {
   "cell_type": "code",
   "execution_count": 108,
   "metadata": {},
   "outputs": [
    {
     "name": "stdout",
     "output_type": "stream",
     "text": [
      "Model: \"sequential_2\"\n",
      "_________________________________________________________________\n",
      "Layer (type)                 Output Shape              Param #   \n",
      "=================================================================\n",
      "batch_normalization_2 (Batch (None, 900, 1)            4         \n",
      "_________________________________________________________________\n",
      "conv1d_10 (Conv1D)           (None, 893, 16)           144       \n",
      "_________________________________________________________________\n",
      "max_pooling1d_8 (MaxPooling1 (None, 446, 16)           0         \n",
      "_________________________________________________________________\n",
      "dropout_8 (Dropout)          (None, 446, 16)           0         \n",
      "_________________________________________________________________\n",
      "conv1d_11 (Conv1D)           (None, 443, 32)           2080      \n",
      "_________________________________________________________________\n",
      "conv1d_12 (Conv1D)           (None, 440, 32)           4128      \n",
      "_________________________________________________________________\n",
      "max_pooling1d_9 (MaxPooling1 (None, 220, 32)           0         \n",
      "_________________________________________________________________\n",
      "dropout_9 (Dropout)          (None, 220, 32)           0         \n",
      "_________________________________________________________________\n",
      "dense_6 (Dense)              (None, 220, 16)           528       \n",
      "_________________________________________________________________\n",
      "max_pooling1d_10 (MaxPooling (None, 110, 16)           0         \n",
      "_________________________________________________________________\n",
      "dropout_10 (Dropout)         (None, 110, 16)           0         \n",
      "_________________________________________________________________\n",
      "conv1d_13 (Conv1D)           (None, 109, 32)           1056      \n",
      "_________________________________________________________________\n",
      "conv1d_14 (Conv1D)           (None, 108, 32)           2080      \n",
      "_________________________________________________________________\n",
      "max_pooling1d_11 (MaxPooling (None, 54, 32)            0         \n",
      "_________________________________________________________________\n",
      "dropout_11 (Dropout)         (None, 54, 32)            0         \n",
      "_________________________________________________________________\n",
      "dense_7 (Dense)              (None, 54, 8)             264       \n",
      "_________________________________________________________________\n",
      "flatten_2 (Flatten)          (None, 432)               0         \n",
      "_________________________________________________________________\n",
      "dense_8 (Dense)              (None, 2)                 866       \n",
      "=================================================================\n",
      "Total params: 11,150\n",
      "Trainable params: 11,148\n",
      "Non-trainable params: 2\n",
      "_________________________________________________________________\n"
     ]
    }
   ],
   "source": [
    "model = models.Sequential()\n",
    "model.add(layers.BatchNormalization(input_shape=(900,1)))\n",
    "model.add(layers.Conv1D(16,8))\n",
    "\n",
    "model.add(layers.MaxPool1D(strides=2))\n",
    "model.add(layers.Dropout(0.25))\n",
    "model.add(layers.Conv1D(32,4))\n",
    "model.add(layers.Conv1D(32,4))\n",
    "model.add(layers.MaxPool1D(strides=2))\n",
    "model.add(layers.Dropout(0.25))\n",
    "model.add(layers.Dense(16, activation='relu'))\n",
    "\n",
    "model.add(layers.MaxPool1D(strides=2))\n",
    "model.add(layers.Dropout(0.25))\n",
    "model.add(layers.Conv1D(32,2))\n",
    "model.add(layers.Conv1D(32,2))\n",
    "model.add(layers.MaxPool1D(strides=2))\n",
    "model.add(layers.Dropout(0.25))\n",
    "model.add(layers.Dense(8, activation='relu'))\n",
    "\n",
    "model.add(layers.Flatten())\n",
    "model.add(layers.Dense(2))\n",
    "\n",
    "model.summary()"
   ]
  },
  {
   "cell_type": "code",
   "execution_count": 109,
   "metadata": {},
   "outputs": [
    {
     "name": "stdout",
     "output_type": "stream",
     "text": [
      "Epoch 1/200\n",
      "1090/1090 [==============================] - 9s 9ms/step - loss: 0.7001 - accuracy: 0.4950 - val_loss: 0.6932 - val_accuracy: 0.4979\n",
      "Epoch 2/200\n",
      "1090/1090 [==============================] - 9s 8ms/step - loss: 0.6965 - accuracy: 0.4885 - val_loss: 0.6932 - val_accuracy: 0.5000\n",
      "Epoch 3/200\n",
      "1090/1090 [==============================] - 9s 8ms/step - loss: 0.6961 - accuracy: 0.5106 - val_loss: 0.6932 - val_accuracy: 0.4989\n",
      "Epoch 4/200\n",
      "1090/1090 [==============================] - 9s 8ms/step - loss: 0.6938 - accuracy: 0.4977 - val_loss: 0.6933 - val_accuracy: 0.5000\n",
      "Epoch 5/200\n",
      "1090/1090 [==============================] - 9s 8ms/step - loss: 0.6938 - accuracy: 0.4927 - val_loss: 0.6933 - val_accuracy: 0.5000\n",
      "Epoch 6/200\n",
      "1090/1090 [==============================] - 9s 9ms/step - loss: 0.6983 - accuracy: 0.5110 - val_loss: 0.6931 - val_accuracy: 0.5000\n",
      "Epoch 7/200\n",
      "1090/1090 [==============================] - 9s 9ms/step - loss: 0.6938 - accuracy: 0.4876 - val_loss: 0.6932 - val_accuracy: 0.5000\n",
      "Epoch 8/200\n",
      "1090/1090 [==============================] - 9s 9ms/step - loss: 0.6949 - accuracy: 0.4794 - val_loss: 0.6931 - val_accuracy: 0.5000\n",
      "Epoch 9/200\n",
      "1090/1090 [==============================] - 10s 9ms/step - loss: 0.6937 - accuracy: 0.4849 - val_loss: 0.6931 - val_accuracy: 0.5000\n",
      "Epoch 10/200\n",
      "1090/1090 [==============================] - 10s 9ms/step - loss: 0.6935 - accuracy: 0.4766 - val_loss: 0.6932 - val_accuracy: 0.5000\n",
      "Epoch 11/200\n",
      "1090/1090 [==============================] - 10s 10ms/step - loss: 0.6963 - accuracy: 0.4972 - val_loss: 0.6932 - val_accuracy: 0.5000\n",
      "Epoch 12/200\n",
      "1090/1090 [==============================] - 10s 9ms/step - loss: 0.6935 - accuracy: 0.5032 - val_loss: 0.6932 - val_accuracy: 0.5000\n",
      "Epoch 13/200\n",
      "1090/1090 [==============================] - 9s 8ms/step - loss: 0.6951 - accuracy: 0.4872 - val_loss: 0.6932 - val_accuracy: 0.5000\n",
      "Epoch 14/200\n",
      "1090/1090 [==============================] - 9s 8ms/step - loss: 0.6941 - accuracy: 0.4729 - val_loss: 0.6931 - val_accuracy: 0.5000\n",
      "Epoch 15/200\n",
      "1090/1090 [==============================] - 9s 8ms/step - loss: 0.6938 - accuracy: 0.4931 - val_loss: 0.6932 - val_accuracy: 0.5000\n",
      "Epoch 16/200\n",
      "1090/1090 [==============================] - 9s 8ms/step - loss: 0.6938 - accuracy: 0.4945 - val_loss: 0.6932 - val_accuracy: 0.5000\n",
      "Epoch 17/200\n",
      "1090/1090 [==============================] - 9s 8ms/step - loss: 0.6998 - accuracy: 0.4899 - val_loss: 0.6932 - val_accuracy: 0.5000\n",
      "Epoch 18/200\n",
      "1090/1090 [==============================] - 9s 8ms/step - loss: 0.6936 - accuracy: 0.4862 - val_loss: 0.6932 - val_accuracy: 0.5000\n",
      "Epoch 19/200\n",
      "1090/1090 [==============================] - 10s 9ms/step - loss: 0.6935 - accuracy: 0.4729 - val_loss: 0.6931 - val_accuracy: 0.5000\n",
      "Epoch 20/200\n",
      "1090/1090 [==============================] - 9s 9ms/step - loss: 0.6935 - accuracy: 0.4867 - val_loss: 0.6932 - val_accuracy: 0.5000\n",
      "Epoch 21/200\n",
      "1090/1090 [==============================] - 9s 9ms/step - loss: 0.6938 - accuracy: 0.4807 - val_loss: 0.6932 - val_accuracy: 0.5000\n",
      "Epoch 22/200\n",
      "1090/1090 [==============================] - 10s 9ms/step - loss: 0.6934 - accuracy: 0.4982 - val_loss: 0.6932 - val_accuracy: 0.5000\n",
      "Epoch 23/200\n",
      " 569/1090 [==============>...............] - ETA: 4s - loss: 0.6939 - accuracy: 0.4780"
     ]
    },
    {
     "ename": "KeyboardInterrupt",
     "evalue": "",
     "output_type": "error",
     "traceback": [
      "\u001b[1;31m---------------------------------------------------------------------------\u001b[0m",
      "\u001b[1;31mKeyboardInterrupt\u001b[0m                         Traceback (most recent call last)",
      "\u001b[1;32m<ipython-input-109-bb7aad73aa4a>\u001b[0m in \u001b[0;36m<module>\u001b[1;34m\u001b[0m\n\u001b[0;32m      3\u001b[0m              metrics=['accuracy'])\n\u001b[0;32m      4\u001b[0m \u001b[1;33m\u001b[0m\u001b[0m\n\u001b[1;32m----> 5\u001b[1;33m history = model.fit(train, epochs=200,\n\u001b[0m\u001b[0;32m      6\u001b[0m                        validation_data=(test))\n",
      "\u001b[1;32m~\\AppData\\Local\\Packages\\PythonSoftwareFoundation.Python.3.8_qbz5n2kfra8p0\\LocalCache\\local-packages\\Python38\\site-packages\\tensorflow\\python\\keras\\engine\\training.py\u001b[0m in \u001b[0;36m_method_wrapper\u001b[1;34m(self, *args, **kwargs)\u001b[0m\n\u001b[0;32m    106\u001b[0m   \u001b[1;32mdef\u001b[0m \u001b[0m_method_wrapper\u001b[0m\u001b[1;33m(\u001b[0m\u001b[0mself\u001b[0m\u001b[1;33m,\u001b[0m \u001b[1;33m*\u001b[0m\u001b[0margs\u001b[0m\u001b[1;33m,\u001b[0m \u001b[1;33m**\u001b[0m\u001b[0mkwargs\u001b[0m\u001b[1;33m)\u001b[0m\u001b[1;33m:\u001b[0m\u001b[1;33m\u001b[0m\u001b[1;33m\u001b[0m\u001b[0m\n\u001b[0;32m    107\u001b[0m     \u001b[1;32mif\u001b[0m \u001b[1;32mnot\u001b[0m \u001b[0mself\u001b[0m\u001b[1;33m.\u001b[0m\u001b[0m_in_multi_worker_mode\u001b[0m\u001b[1;33m(\u001b[0m\u001b[1;33m)\u001b[0m\u001b[1;33m:\u001b[0m  \u001b[1;31m# pylint: disable=protected-access\u001b[0m\u001b[1;33m\u001b[0m\u001b[1;33m\u001b[0m\u001b[0m\n\u001b[1;32m--> 108\u001b[1;33m       \u001b[1;32mreturn\u001b[0m \u001b[0mmethod\u001b[0m\u001b[1;33m(\u001b[0m\u001b[0mself\u001b[0m\u001b[1;33m,\u001b[0m \u001b[1;33m*\u001b[0m\u001b[0margs\u001b[0m\u001b[1;33m,\u001b[0m \u001b[1;33m**\u001b[0m\u001b[0mkwargs\u001b[0m\u001b[1;33m)\u001b[0m\u001b[1;33m\u001b[0m\u001b[1;33m\u001b[0m\u001b[0m\n\u001b[0m\u001b[0;32m    109\u001b[0m \u001b[1;33m\u001b[0m\u001b[0m\n\u001b[0;32m    110\u001b[0m     \u001b[1;31m# Running inside `run_distribute_coordinator` already.\u001b[0m\u001b[1;33m\u001b[0m\u001b[1;33m\u001b[0m\u001b[1;33m\u001b[0m\u001b[0m\n",
      "\u001b[1;32m~\\AppData\\Local\\Packages\\PythonSoftwareFoundation.Python.3.8_qbz5n2kfra8p0\\LocalCache\\local-packages\\Python38\\site-packages\\tensorflow\\python\\keras\\engine\\training.py\u001b[0m in \u001b[0;36mfit\u001b[1;34m(self, x, y, batch_size, epochs, verbose, callbacks, validation_split, validation_data, shuffle, class_weight, sample_weight, initial_epoch, steps_per_epoch, validation_steps, validation_batch_size, validation_freq, max_queue_size, workers, use_multiprocessing)\u001b[0m\n\u001b[0;32m   1096\u001b[0m                 batch_size=batch_size):\n\u001b[0;32m   1097\u001b[0m               \u001b[0mcallbacks\u001b[0m\u001b[1;33m.\u001b[0m\u001b[0mon_train_batch_begin\u001b[0m\u001b[1;33m(\u001b[0m\u001b[0mstep\u001b[0m\u001b[1;33m)\u001b[0m\u001b[1;33m\u001b[0m\u001b[1;33m\u001b[0m\u001b[0m\n\u001b[1;32m-> 1098\u001b[1;33m               \u001b[0mtmp_logs\u001b[0m \u001b[1;33m=\u001b[0m \u001b[0mtrain_function\u001b[0m\u001b[1;33m(\u001b[0m\u001b[0miterator\u001b[0m\u001b[1;33m)\u001b[0m\u001b[1;33m\u001b[0m\u001b[1;33m\u001b[0m\u001b[0m\n\u001b[0m\u001b[0;32m   1099\u001b[0m               \u001b[1;32mif\u001b[0m \u001b[0mdata_handler\u001b[0m\u001b[1;33m.\u001b[0m\u001b[0mshould_sync\u001b[0m\u001b[1;33m:\u001b[0m\u001b[1;33m\u001b[0m\u001b[1;33m\u001b[0m\u001b[0m\n\u001b[0;32m   1100\u001b[0m                 \u001b[0mcontext\u001b[0m\u001b[1;33m.\u001b[0m\u001b[0masync_wait\u001b[0m\u001b[1;33m(\u001b[0m\u001b[1;33m)\u001b[0m\u001b[1;33m\u001b[0m\u001b[1;33m\u001b[0m\u001b[0m\n",
      "\u001b[1;32m~\\AppData\\Local\\Packages\\PythonSoftwareFoundation.Python.3.8_qbz5n2kfra8p0\\LocalCache\\local-packages\\Python38\\site-packages\\tensorflow\\python\\eager\\def_function.py\u001b[0m in \u001b[0;36m__call__\u001b[1;34m(self, *args, **kwds)\u001b[0m\n\u001b[0;32m    778\u001b[0m       \u001b[1;32melse\u001b[0m\u001b[1;33m:\u001b[0m\u001b[1;33m\u001b[0m\u001b[1;33m\u001b[0m\u001b[0m\n\u001b[0;32m    779\u001b[0m         \u001b[0mcompiler\u001b[0m \u001b[1;33m=\u001b[0m \u001b[1;34m\"nonXla\"\u001b[0m\u001b[1;33m\u001b[0m\u001b[1;33m\u001b[0m\u001b[0m\n\u001b[1;32m--> 780\u001b[1;33m         \u001b[0mresult\u001b[0m \u001b[1;33m=\u001b[0m \u001b[0mself\u001b[0m\u001b[1;33m.\u001b[0m\u001b[0m_call\u001b[0m\u001b[1;33m(\u001b[0m\u001b[1;33m*\u001b[0m\u001b[0margs\u001b[0m\u001b[1;33m,\u001b[0m \u001b[1;33m**\u001b[0m\u001b[0mkwds\u001b[0m\u001b[1;33m)\u001b[0m\u001b[1;33m\u001b[0m\u001b[1;33m\u001b[0m\u001b[0m\n\u001b[0m\u001b[0;32m    781\u001b[0m \u001b[1;33m\u001b[0m\u001b[0m\n\u001b[0;32m    782\u001b[0m       \u001b[0mnew_tracing_count\u001b[0m \u001b[1;33m=\u001b[0m \u001b[0mself\u001b[0m\u001b[1;33m.\u001b[0m\u001b[0m_get_tracing_count\u001b[0m\u001b[1;33m(\u001b[0m\u001b[1;33m)\u001b[0m\u001b[1;33m\u001b[0m\u001b[1;33m\u001b[0m\u001b[0m\n",
      "\u001b[1;32m~\\AppData\\Local\\Packages\\PythonSoftwareFoundation.Python.3.8_qbz5n2kfra8p0\\LocalCache\\local-packages\\Python38\\site-packages\\tensorflow\\python\\eager\\def_function.py\u001b[0m in \u001b[0;36m_call\u001b[1;34m(self, *args, **kwds)\u001b[0m\n\u001b[0;32m    805\u001b[0m       \u001b[1;31m# In this case we have created variables on the first call, so we run the\u001b[0m\u001b[1;33m\u001b[0m\u001b[1;33m\u001b[0m\u001b[1;33m\u001b[0m\u001b[0m\n\u001b[0;32m    806\u001b[0m       \u001b[1;31m# defunned version which is guaranteed to never create variables.\u001b[0m\u001b[1;33m\u001b[0m\u001b[1;33m\u001b[0m\u001b[1;33m\u001b[0m\u001b[0m\n\u001b[1;32m--> 807\u001b[1;33m       \u001b[1;32mreturn\u001b[0m \u001b[0mself\u001b[0m\u001b[1;33m.\u001b[0m\u001b[0m_stateless_fn\u001b[0m\u001b[1;33m(\u001b[0m\u001b[1;33m*\u001b[0m\u001b[0margs\u001b[0m\u001b[1;33m,\u001b[0m \u001b[1;33m**\u001b[0m\u001b[0mkwds\u001b[0m\u001b[1;33m)\u001b[0m  \u001b[1;31m# pylint: disable=not-callable\u001b[0m\u001b[1;33m\u001b[0m\u001b[1;33m\u001b[0m\u001b[0m\n\u001b[0m\u001b[0;32m    808\u001b[0m     \u001b[1;32melif\u001b[0m \u001b[0mself\u001b[0m\u001b[1;33m.\u001b[0m\u001b[0m_stateful_fn\u001b[0m \u001b[1;32mis\u001b[0m \u001b[1;32mnot\u001b[0m \u001b[1;32mNone\u001b[0m\u001b[1;33m:\u001b[0m\u001b[1;33m\u001b[0m\u001b[1;33m\u001b[0m\u001b[0m\n\u001b[0;32m    809\u001b[0m       \u001b[1;31m# Release the lock early so that multiple threads can perform the call\u001b[0m\u001b[1;33m\u001b[0m\u001b[1;33m\u001b[0m\u001b[1;33m\u001b[0m\u001b[0m\n",
      "\u001b[1;32m~\\AppData\\Local\\Packages\\PythonSoftwareFoundation.Python.3.8_qbz5n2kfra8p0\\LocalCache\\local-packages\\Python38\\site-packages\\tensorflow\\python\\eager\\function.py\u001b[0m in \u001b[0;36m__call__\u001b[1;34m(self, *args, **kwargs)\u001b[0m\n\u001b[0;32m   2827\u001b[0m     \u001b[1;32mwith\u001b[0m \u001b[0mself\u001b[0m\u001b[1;33m.\u001b[0m\u001b[0m_lock\u001b[0m\u001b[1;33m:\u001b[0m\u001b[1;33m\u001b[0m\u001b[1;33m\u001b[0m\u001b[0m\n\u001b[0;32m   2828\u001b[0m       \u001b[0mgraph_function\u001b[0m\u001b[1;33m,\u001b[0m \u001b[0margs\u001b[0m\u001b[1;33m,\u001b[0m \u001b[0mkwargs\u001b[0m \u001b[1;33m=\u001b[0m \u001b[0mself\u001b[0m\u001b[1;33m.\u001b[0m\u001b[0m_maybe_define_function\u001b[0m\u001b[1;33m(\u001b[0m\u001b[0margs\u001b[0m\u001b[1;33m,\u001b[0m \u001b[0mkwargs\u001b[0m\u001b[1;33m)\u001b[0m\u001b[1;33m\u001b[0m\u001b[1;33m\u001b[0m\u001b[0m\n\u001b[1;32m-> 2829\u001b[1;33m     \u001b[1;32mreturn\u001b[0m \u001b[0mgraph_function\u001b[0m\u001b[1;33m.\u001b[0m\u001b[0m_filtered_call\u001b[0m\u001b[1;33m(\u001b[0m\u001b[0margs\u001b[0m\u001b[1;33m,\u001b[0m \u001b[0mkwargs\u001b[0m\u001b[1;33m)\u001b[0m  \u001b[1;31m# pylint: disable=protected-access\u001b[0m\u001b[1;33m\u001b[0m\u001b[1;33m\u001b[0m\u001b[0m\n\u001b[0m\u001b[0;32m   2830\u001b[0m \u001b[1;33m\u001b[0m\u001b[0m\n\u001b[0;32m   2831\u001b[0m   \u001b[1;33m@\u001b[0m\u001b[0mproperty\u001b[0m\u001b[1;33m\u001b[0m\u001b[1;33m\u001b[0m\u001b[0m\n",
      "\u001b[1;32m~\\AppData\\Local\\Packages\\PythonSoftwareFoundation.Python.3.8_qbz5n2kfra8p0\\LocalCache\\local-packages\\Python38\\site-packages\\tensorflow\\python\\eager\\function.py\u001b[0m in \u001b[0;36m_filtered_call\u001b[1;34m(self, args, kwargs, cancellation_manager)\u001b[0m\n\u001b[0;32m   1841\u001b[0m       \u001b[0;31m`\u001b[0m\u001b[0margs\u001b[0m\u001b[0;31m`\u001b[0m \u001b[1;32mand\u001b[0m\u001b[0;31m \u001b[0m\u001b[0;31m`\u001b[0m\u001b[0mkwargs\u001b[0m\u001b[0;31m`\u001b[0m\u001b[1;33m.\u001b[0m\u001b[1;33m\u001b[0m\u001b[1;33m\u001b[0m\u001b[0m\n\u001b[0;32m   1842\u001b[0m     \"\"\"\n\u001b[1;32m-> 1843\u001b[1;33m     return self._call_flat(\n\u001b[0m\u001b[0;32m   1844\u001b[0m         [t for t in nest.flatten((args, kwargs), expand_composites=True)\n\u001b[0;32m   1845\u001b[0m          if isinstance(t, (ops.Tensor,\n",
      "\u001b[1;32m~\\AppData\\Local\\Packages\\PythonSoftwareFoundation.Python.3.8_qbz5n2kfra8p0\\LocalCache\\local-packages\\Python38\\site-packages\\tensorflow\\python\\eager\\function.py\u001b[0m in \u001b[0;36m_call_flat\u001b[1;34m(self, args, captured_inputs, cancellation_manager)\u001b[0m\n\u001b[0;32m   1921\u001b[0m         and executing_eagerly):\n\u001b[0;32m   1922\u001b[0m       \u001b[1;31m# No tape is watching; skip to running the function.\u001b[0m\u001b[1;33m\u001b[0m\u001b[1;33m\u001b[0m\u001b[1;33m\u001b[0m\u001b[0m\n\u001b[1;32m-> 1923\u001b[1;33m       return self._build_call_outputs(self._inference_function.call(\n\u001b[0m\u001b[0;32m   1924\u001b[0m           ctx, args, cancellation_manager=cancellation_manager))\n\u001b[0;32m   1925\u001b[0m     forward_backward = self._select_forward_and_backward_functions(\n",
      "\u001b[1;32m~\\AppData\\Local\\Packages\\PythonSoftwareFoundation.Python.3.8_qbz5n2kfra8p0\\LocalCache\\local-packages\\Python38\\site-packages\\tensorflow\\python\\eager\\function.py\u001b[0m in \u001b[0;36mcall\u001b[1;34m(self, ctx, args, cancellation_manager)\u001b[0m\n\u001b[0;32m    543\u001b[0m       \u001b[1;32mwith\u001b[0m \u001b[0m_InterpolateFunctionError\u001b[0m\u001b[1;33m(\u001b[0m\u001b[0mself\u001b[0m\u001b[1;33m)\u001b[0m\u001b[1;33m:\u001b[0m\u001b[1;33m\u001b[0m\u001b[1;33m\u001b[0m\u001b[0m\n\u001b[0;32m    544\u001b[0m         \u001b[1;32mif\u001b[0m \u001b[0mcancellation_manager\u001b[0m \u001b[1;32mis\u001b[0m \u001b[1;32mNone\u001b[0m\u001b[1;33m:\u001b[0m\u001b[1;33m\u001b[0m\u001b[1;33m\u001b[0m\u001b[0m\n\u001b[1;32m--> 545\u001b[1;33m           outputs = execute.execute(\n\u001b[0m\u001b[0;32m    546\u001b[0m               \u001b[0mstr\u001b[0m\u001b[1;33m(\u001b[0m\u001b[0mself\u001b[0m\u001b[1;33m.\u001b[0m\u001b[0msignature\u001b[0m\u001b[1;33m.\u001b[0m\u001b[0mname\u001b[0m\u001b[1;33m)\u001b[0m\u001b[1;33m,\u001b[0m\u001b[1;33m\u001b[0m\u001b[1;33m\u001b[0m\u001b[0m\n\u001b[0;32m    547\u001b[0m               \u001b[0mnum_outputs\u001b[0m\u001b[1;33m=\u001b[0m\u001b[0mself\u001b[0m\u001b[1;33m.\u001b[0m\u001b[0m_num_outputs\u001b[0m\u001b[1;33m,\u001b[0m\u001b[1;33m\u001b[0m\u001b[1;33m\u001b[0m\u001b[0m\n",
      "\u001b[1;32m~\\AppData\\Local\\Packages\\PythonSoftwareFoundation.Python.3.8_qbz5n2kfra8p0\\LocalCache\\local-packages\\Python38\\site-packages\\tensorflow\\python\\eager\\execute.py\u001b[0m in \u001b[0;36mquick_execute\u001b[1;34m(op_name, num_outputs, inputs, attrs, ctx, name)\u001b[0m\n\u001b[0;32m     57\u001b[0m   \u001b[1;32mtry\u001b[0m\u001b[1;33m:\u001b[0m\u001b[1;33m\u001b[0m\u001b[1;33m\u001b[0m\u001b[0m\n\u001b[0;32m     58\u001b[0m     \u001b[0mctx\u001b[0m\u001b[1;33m.\u001b[0m\u001b[0mensure_initialized\u001b[0m\u001b[1;33m(\u001b[0m\u001b[1;33m)\u001b[0m\u001b[1;33m\u001b[0m\u001b[1;33m\u001b[0m\u001b[0m\n\u001b[1;32m---> 59\u001b[1;33m     tensors = pywrap_tfe.TFE_Py_Execute(ctx._handle, device_name, op_name,\n\u001b[0m\u001b[0;32m     60\u001b[0m                                         inputs, attrs, num_outputs)\n\u001b[0;32m     61\u001b[0m   \u001b[1;32mexcept\u001b[0m \u001b[0mcore\u001b[0m\u001b[1;33m.\u001b[0m\u001b[0m_NotOkStatusException\u001b[0m \u001b[1;32mas\u001b[0m \u001b[0me\u001b[0m\u001b[1;33m:\u001b[0m\u001b[1;33m\u001b[0m\u001b[1;33m\u001b[0m\u001b[0m\n",
      "\u001b[1;31mKeyboardInterrupt\u001b[0m: "
     ]
    }
   ],
   "source": [
    "model.compile(optimizer='adam',\n",
    "             loss=tf.keras.losses.SparseCategoricalCrossentropy(from_logits=True),\n",
    "             metrics=['accuracy'])\n",
    "\n",
    "history = model.fit(train, epochs=200,\n",
    "                       validation_data=(test))"
   ]
  }
 ],
 "metadata": {
  "kernelspec": {
   "display_name": "Python 3",
   "language": "python",
   "name": "python3"
  },
  "language_info": {
   "codemirror_mode": {
    "name": "ipython",
    "version": 3
   },
   "file_extension": ".py",
   "mimetype": "text/x-python",
   "name": "python",
   "nbconvert_exporter": "python",
   "pygments_lexer": "ipython3",
   "version": "3.8.6"
  }
 },
 "nbformat": 4,
 "nbformat_minor": 4
}
